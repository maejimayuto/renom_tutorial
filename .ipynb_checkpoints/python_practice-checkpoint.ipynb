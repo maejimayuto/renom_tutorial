{
 "cells": [
  {
   "cell_type": "code",
   "execution_count": 1,
   "metadata": {},
   "outputs": [],
   "source": []
  },
  {
   "cell_type": "code",
   "execution_count": 2,
   "metadata": {},
   "outputs": [
    {
     "name": "stdout",
     "output_type": "stream",
     "text": [
      "dict_keys(['name', 'age'])\n",
      "dict_values(['yuhei', 33])\n",
      "{'name': 'yuhei', 'age': 33}\n"
     ]
    }
   ],
   "source": [
    "class Person():\n",
    "    def __init__(self, name):\n",
    "        self.name = name\n",
    "\n",
    "me = Person('yuhei')\n",
    "\n",
    "# インスタンス変数をセット\n",
    "me.age = 33 \n",
    "me.address = \"yuto.maejima@seattleconsulting.co.jp\"\n",
    "\n",
    "# インスタンス変数名の一覧を取得\n",
    "print(me.__dict__.keys())\n",
    "# => ['age', 'name']\n",
    "\n",
    "# インスタンス変数の値一覧を取得\n",
    "print(me.__dict__.values())\n",
    "# => [33, 'yuhei']\n",
    "\n",
    "# インスタンス変数名、値の辞書を取得\n",
    "print(me.__dict__)\n",
    "# => {'age': 33, 'name': 'yuhei'}"
   ]
  },
  {
   "cell_type": "code",
   "execution_count": null,
   "metadata": {},
   "outputs": [],
   "source": []
  }
 ],
 "metadata": {
  "kernelspec": {
   "display_name": "Python 3",
   "language": "python",
   "name": "python3"
  },
  "language_info": {
   "codemirror_mode": {
    "name": "ipython",
    "version": 3
   },
   "file_extension": ".py",
   "mimetype": "text/x-python",
   "name": "python",
   "nbconvert_exporter": "python",
   "pygments_lexer": "ipython3",
   "version": "3.6.5"
  }
 },
 "nbformat": 4,
 "nbformat_minor": 2
}
