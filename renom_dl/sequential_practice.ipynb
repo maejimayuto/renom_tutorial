{
 "cells": [
  {
   "cell_type": "code",
   "execution_count": 59,
   "metadata": {},
   "outputs": [],
   "source": [
    "import matplotlib.pyplot as plt\n",
    "import numpy as np\n",
    "import pandas as pd\n",
    "from sklearn.datasets import load_iris\n",
    "from sklearn.model_selection import train_test_split\n",
    "from sklearn.metrics import classification_report, confusion_matrix\n",
    "import renom as rm\n",
    "from renom.optimizer import Sgd"
   ]
  },
  {
   "cell_type": "code",
   "execution_count": 60,
   "metadata": {},
   "outputs": [
    {
     "name": "stdout",
     "output_type": "stream",
     "text": [
      "data shape:(150, 4)\n",
      "<class 'numpy.ndarray'>\n",
      "label shape:(150,)\n",
      "<class 'numpy.ndarray'>\n",
      "[0 0 0 0 0 0 0 0 0 0 0 0 0 0 0 0 0 0 0 0 0 0 0 0 0 0 0 0 0 0 0 0 0 0 0 0 0\n",
      " 0 0 0 0 0 0 0 0 0 0 0 0 0 1 1 1 1 1 1 1 1 1 1 1 1 1 1 1 1 1 1 1 1 1 1 1 1\n",
      " 1 1 1 1 1 1 1 1 1 1 1 1 1 1 1 1 1 1 1 1 1 1 1 1 1 1 2 2 2 2 2 2 2 2 2 2 2\n",
      " 2 2 2 2 2 2 2 2 2 2 2 2 2 2 2 2 2 2 2 2 2 2 2 2 2 2 2 2 2 2 2 2 2 2 2 2 2\n",
      " 2 2]\n",
      "<class 'sklearn.utils.Bunch'>\n"
     ]
    }
   ],
   "source": [
    "iris = load_iris()\n",
    "data = iris.data\n",
    "label = iris.target\n",
    "\n",
    "print(\"data shape:{}\".format(data.shape))\n",
    "print(type(data))\n",
    "pd.DataFrame(data, columns=iris.feature_names)\n",
    "# print(data)\n",
    "\n",
    "# 各データの分類 (0: 'setosa', 1: 'versicolor', 2: 'virginica')\n",
    "print(\"label shape:{}\".format(label.shape))\n",
    "print(type(label))\n",
    "print(label)\n",
    "\n",
    "print(type(iris))\n",
    "# print(iris)"
   ]
  },
  {
   "cell_type": "code",
   "execution_count": 61,
   "metadata": {},
   "outputs": [
    {
     "data": {
      "text/plain": [
       "array(['setosa', 'versicolor', 'virginica'], dtype='<U10')"
      ]
     },
     "execution_count": 61,
     "metadata": {},
     "output_type": "execute_result"
    }
   ],
   "source": [
    "iris.target_names\n",
    "# print(type(iris.target_names))"
   ]
  },
  {
   "cell_type": "code",
   "execution_count": 62,
   "metadata": {},
   "outputs": [
    {
     "name": "stdout",
     "output_type": "stream",
     "text": [
      "<renom.layers.function.parameterized.Sequential object at 0x113c76ba8>\n",
      "<renom.layers.function.parameterized.Sequential object at 0x113c76ba8>\n"
     ]
    }
   ],
   "source": [
    "model = rm.Sequential([\n",
    "    rm.Dense(20),\n",
    "    rm.Relu(),\n",
    "    rm.Dense(3)\n",
    "])\n",
    "print(model)\n",
    "print(model)"
   ]
  },
  {
   "cell_type": "code",
   "execution_count": 63,
   "metadata": {
    "scrolled": false
   },
   "outputs": [
    {
     "name": "stdout",
     "output_type": "stream",
     "text": [
      "X_train:(105, 4), X_test:(45, 4), y_train:(105,), y_test:(45,)\n",
      "[2 0 0 0 0 1 0 1 1 1 1 0 0 2 2 1 2 1 1 2 0 1 2 1 2 1 2 2 0 2 0 1 1 0 0 0 2\n",
      " 2 2 0 1 2 2 0 2 0 1 1 2 2 0 0 2 0 1 0 2 1 2 2 2 0 1 1 2 0 1 2 2 0 1 1 0 2\n",
      " 1 2 2 1 2 0 1 2 1 2 0 0 0 2 2 2 1 0 0 1 2 0 2 0 2 1 2 0 2 1 0]\n",
      "0\n",
      "<class 'numpy.ndarray'>\n",
      "\n",
      "105\n",
      "45\n",
      "[[2]\n",
      " [0]\n",
      " [0]\n",
      " [0]\n",
      " [0]\n",
      " [1]\n",
      " [0]\n",
      " [1]\n",
      " [1]\n",
      " [1]\n",
      " [1]\n",
      " [0]\n",
      " [0]\n",
      " [2]\n",
      " [2]\n",
      " [1]\n",
      " [2]\n",
      " [1]\n",
      " [1]\n",
      " [2]\n",
      " [0]\n",
      " [1]\n",
      " [2]\n",
      " [1]\n",
      " [2]\n",
      " [1]\n",
      " [2]\n",
      " [2]\n",
      " [0]\n",
      " [2]\n",
      " [0]\n",
      " [1]\n",
      " [1]\n",
      " [0]\n",
      " [0]\n",
      " [0]\n",
      " [2]\n",
      " [2]\n",
      " [2]\n",
      " [0]\n",
      " [1]\n",
      " [2]\n",
      " [2]\n",
      " [0]\n",
      " [2]\n",
      " [0]\n",
      " [1]\n",
      " [1]\n",
      " [2]\n",
      " [2]\n",
      " [0]\n",
      " [0]\n",
      " [2]\n",
      " [0]\n",
      " [1]\n",
      " [0]\n",
      " [2]\n",
      " [1]\n",
      " [2]\n",
      " [2]\n",
      " [2]\n",
      " [0]\n",
      " [1]\n",
      " [1]\n",
      " [2]\n",
      " [0]\n",
      " [1]\n",
      " [2]\n",
      " [2]\n",
      " [0]\n",
      " [1]\n",
      " [1]\n",
      " [0]\n",
      " [2]\n",
      " [1]\n",
      " [2]\n",
      " [2]\n",
      " [1]\n",
      " [2]\n",
      " [0]\n",
      " [1]\n",
      " [2]\n",
      " [1]\n",
      " [2]\n",
      " [0]\n",
      " [0]\n",
      " [0]\n",
      " [2]\n",
      " [2]\n",
      " [2]\n",
      " [1]\n",
      " [0]\n",
      " [0]\n",
      " [1]\n",
      " [2]\n",
      " [0]\n",
      " [2]\n",
      " [0]\n",
      " [2]\n",
      " [1]\n",
      " [2]\n",
      " [0]\n",
      " [2]\n",
      " [1]\n",
      " [0]]\n",
      "\n",
      "X_train:(105, 4), X_test:(45, 4), y_train:(105, 1), y_test:(45, 1)\n"
     ]
    }
   ],
   "source": [
    "X_train, X_test, y_train, y_test = train_test_split(data, label, test_size=0.3)\n",
    "print(\"X_train:{}, X_test:{}, y_train:{}, y_test:{}\".format(X_train.shape, X_test.shape, y_train.shape, y_test.shape))\n",
    "\n",
    "# print(X_train)\n",
    "# print(X_test)\n",
    "print(y_train)\n",
    "print(y_train[4])\n",
    "print(type(y_train))\n",
    "# print(y_test)\n",
    "print()\n",
    "\n",
    "# なんでこの処理が必要なのだろうか\n",
    "# -> 横ベクトル（1次元配列）ではなく、縦ベクトルにしないと後続の\n",
    "# softmax_cross_entropy.py in __new__(cls, lhs, rhs)\n",
    "# がコケるから\n",
    "y_train = y_train.reshape(len(X_train), -1)\n",
    "y_test = y_test.reshape(len(X_test), -1)\n",
    "\n",
    "print(len(X_train))\n",
    "print(len(X_test))\n",
    "\n",
    "print(y_train)\n",
    "# print(y_test)\n",
    "print()\n",
    "\n",
    "print(\"X_train:{}, X_test:{}, y_train:{}, y_test:{}\".format(X_train.shape, X_test.shape, y_train.shape, y_test.shape))"
   ]
  },
  {
   "cell_type": "code",
   "execution_count": 64,
   "metadata": {
    "scrolled": true
   },
   "outputs": [
    {
     "name": "stdout",
     "output_type": "stream",
     "text": [
      "epoch:000, train_loss:8.3874, test_loss:6.3233\n",
      "epoch:001, train_loss:7.6764, test_loss:5.7640\n",
      "epoch:002, train_loss:6.9675, test_loss:5.0360\n",
      "epoch:003, train_loss:5.7688, test_loss:3.8524\n",
      "epoch:004, train_loss:4.1402, test_loss:2.9447\n",
      "epoch:005, train_loss:3.6350, test_loss:2.9259\n",
      "epoch:006, train_loss:3.5875, test_loss:2.9387\n",
      "epoch:007, train_loss:3.6236, test_loss:2.9170\n",
      "epoch:008, train_loss:3.5513, test_loss:2.9220\n",
      "epoch:009, train_loss:3.5861, test_loss:2.9763\n"
     ]
    }
   ],
   "source": [
    "batch_size = 8\n",
    "epoch = 10\n",
    "N = len(X_train)\n",
    "optimizer = Sgd(lr=0.001)\n",
    "learning_curve = []\n",
    "test_learning_curve = []\n",
    "\n",
    "# epoch数分ミニバッチで学習（損失関数にて、モデルの評価まで）を行う\n",
    "for i in range(epoch):\n",
    "    perm = np.random.permutation(N)   # N = 150 データの総数 150つ（1-150）のランダム数値の配列\n",
    "    # print(\"perm = \\n {}\".format(perm))\n",
    "    loss = 0\n",
    "    \n",
    "    # ミニバッチの数だけ重みパラメータの勾配を求め、パラメータを更新する\n",
    "    for j in range(0, N // batch_size):\n",
    "        # 訓練用のミニバッチ、つまりデータ\n",
    "        train_batch = X_train[perm[j*batch_size : (j+1)*batch_size]]   # 4 * 8\n",
    "        # 訓練用のミニバッチに対応したlabel、つまり答え\n",
    "        response_batch = y_train[perm[j*batch_size : (j+1)*batch_size]]   # 1 * 8\n",
    "        # print(\"loop{}: \\n train_batch = \\n {}, \\n response_batch = \\n {}\".format(j, train_batch, response_batch))\n",
    "\n",
    "        # モデルの学習？内部では何をしているのだろうか\n",
    "        with model.train():\n",
    "            # データと答えを渡してこのモデルの損失関数の値を求める\n",
    "            # print(model)\n",
    "            l = rm.softmax_cross_entropy(model(train_batch), response_batch)\n",
    "        # print(\"I:{}\".format(l))\n",
    "#         print(type(l))\n",
    "        # 逆伝搬を実行\n",
    "        grad = l.grad()\n",
    "        #  print(\"grad:{}\".format(grad))\n",
    "        # 損失関数を元に微小量だけ更新する\n",
    "        grad.update(optimizer)\n",
    "        # print(\"I:{}\".format(l))\n",
    "#         print(type(loss))\n",
    "        # 今回のepochでの損失関数の値を蓄積させる（appendしている）\n",
    "        loss += l.as_ndarray()\n",
    "        # 配列とfloatの足し算、、、pythonの書き方がわからない\n",
    "#         print(type(l.as_ndarray()))\n",
    "#         print(l.as_ndarray())\n",
    "#         print(type(loss))\n",
    "        # print(\"loss:{} \\n\".format(loss))\n",
    "        \n",
    "    # 訓練用データの損失関数の値を求める\n",
    "    train_loss = loss / (N // batch_size)\n",
    "\n",
    "    test_loss = rm.softmax_cross_entropy(model(X_test), y_test).as_ndarray()\n",
    "    # グラフ描画用\n",
    "    test_learning_curve.append(test_loss)\n",
    "    # グラフ描画用\n",
    "    learning_curve.append(train_loss)\n",
    "    print(\"epoch:{:03d}, train_loss:{:.4f}, test_loss:{:.4f}\".format(i, float(train_loss), float(test_loss)))\n",
    "    \n",
    "#     print(\"train_loss:{}, test_loss:{}\".format(train_loss, test_loss))\n",
    "#     print(type(train_loss))"
   ]
  },
  {
   "cell_type": "code",
   "execution_count": 65,
   "metadata": {},
   "outputs": [
    {
     "name": "stdout",
     "output_type": "stream",
     "text": [
      "[2 0 2 2 1 2 1 2 2 2 1 1 2 2 2 2 1 2 1 2 1 2 2 0 2 2 1 1 1 1 2 2 2 2 1 1 2\n",
      " 1 2 1 2 2 2 2 1]\n",
      "[[ 0 16  0]\n",
      " [ 0  0 19]\n",
      " [ 2  0  8]]\n",
      "             precision    recall  f1-score   support\n",
      "\n",
      "          0       0.00      0.00      0.00        16\n",
      "          1       0.00      0.00      0.00        19\n",
      "          2       0.30      0.80      0.43        10\n",
      "\n",
      "avg / total       0.07      0.18      0.10        45\n",
      "\n"
     ]
    },
    {
     "data": {
      "image/png": "[encoded data removed]",
      "text/plain": [
       "<Figure size 432x288 with 1 Axes>"
      ]
     },
     "metadata": {},
     "output_type": "display_data"
    }
   ],
   "source": [
    "predictions = np.argmax(model(X_test).as_ndarray(), axis=1)\n",
    "print(predictions)\n",
    "\n",
    "print(confusion_matrix(y_test, predictions))\n",
    "print(classification_report(y_test, predictions))\n",
    "\n",
    "plt.plot(learning_curve, linewidth=1, label=\"train\")\n",
    "plt.plot(test_learning_curve, linewidth=1, label=\"test\")\n",
    "plt.title(\"learning_curve\")\n",
    "plt.ylabel(\"error\")\n",
    "plt.xlabel(\"epoch\")\n",
    "plt.legend()\n",
    "plt.grid()\n",
    "plt.show()"
   ]
  },
  {
   "cell_type": "code",
   "execution_count": null,
   "metadata": {},
   "outputs": [],
   "source": []
  }
 ],
 "metadata": {
  "kernelspec": {
   "display_name": "Python 3",
   "language": "python",
   "name": "python3"
  },
  "language_info": {
   "codemirror_mode": {
    "name": "ipython",
    "version": 3
   },
   "file_extension": ".py",
   "mimetype": "text/x-python",
   "name": "python",
   "nbconvert_exporter": "python",
   "pygments_lexer": "ipython3",
   "version": "3.6.5"
  }
 },
 "nbformat": 4,
 "nbformat_minor": 2
}
