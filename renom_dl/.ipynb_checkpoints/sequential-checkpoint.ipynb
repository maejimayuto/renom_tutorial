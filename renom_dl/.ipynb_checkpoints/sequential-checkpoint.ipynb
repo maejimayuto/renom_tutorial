{
 "cells": [
  {
   "cell_type": "code",
   "execution_count": 103,
   "metadata": {},
   "outputs": [],
   "source": [
    "import matplotlib.pyplot as plt\n",
    "import numpy as np\n",
    "from sklearn.datasets import load_iris\n",
    "from sklearn.model_selection import train_test_split\n",
    "from sklearn.metrics import classification_report, confusion_matrix\n",
    "import renom as rm\n",
    "from renom.optimizer import Sgd"
   ]
  },
  {
   "cell_type": "code",
   "execution_count": 104,
   "metadata": {},
   "outputs": [
    {
     "name": "stdout",
     "output_type": "stream",
     "text": [
      "data shape:(150, 4)\n",
      "label shape:(150,)\n"
     ]
    }
   ],
   "source": [
    "iris = load_iris()\n",
    "data = iris.data\n",
    "label = iris.target\n",
    "print(\"data shape:{}\".format(data.shape))\n",
    "print(\"label shape:{}\".format(label.shape))"
   ]
  },
  {
   "cell_type": "code",
   "execution_count": 105,
   "metadata": {},
   "outputs": [
    {
     "data": {
      "text/plain": [
       "array(['setosa', 'versicolor', 'virginica'], dtype='<U10')"
      ]
     },
     "execution_count": 105,
     "metadata": {},
     "output_type": "execute_result"
    }
   ],
   "source": [
    "iris.target_names"
   ]
  },
  {
   "cell_type": "code",
   "execution_count": 106,
   "metadata": {},
   "outputs": [],
   "source": [
    "model = rm.Sequential([\n",
    "    rm.Dense(20),\n",
    "    rm.Relu(),\n",
    "    rm.Dense(3)\n",
    "])"
   ]
  },
  {
   "cell_type": "code",
   "execution_count": 107,
   "metadata": {},
   "outputs": [
    {
     "name": "stdout",
     "output_type": "stream",
     "text": [
      "X_train:(105, 4), X_test:(45, 4), y_train:(105, 1), y_test:(45, 1)\n"
     ]
    }
   ],
   "source": [
    "X_train, X_test, y_train, y_test = train_test_split(data, label, test_size=0.3)\n",
    "y_train = y_train.reshape(len(X_train), -1)\n",
    "y_test = y_test.reshape(len(X_test), -1)\n",
    "print(\"X_train:{}, X_test:{}, y_train:{}, y_test:{}\".format(X_train.shape, X_test.shape, y_train.shape, y_test.shape))"
   ]
  },
  {
   "cell_type": "code",
   "execution_count": 108,
   "metadata": {},
   "outputs": [
    {
     "name": "stdout",
     "output_type": "stream",
     "text": [
      "epoch:000, train_loss:9.3586, test_loss:8.2341\n",
      "epoch:001, train_loss:7.0214, test_loss:6.1812\n",
      "epoch:002, train_loss:5.1942, test_loss:4.8675\n",
      "epoch:003, train_loss:4.2170, test_loss:4.1539\n",
      "epoch:004, train_loss:3.9118, test_loss:3.7309\n",
      "epoch:005, train_loss:3.4621, test_loss:3.5181\n",
      "epoch:006, train_loss:3.2522, test_loss:3.4280\n",
      "epoch:007, train_loss:3.3311, test_loss:3.3985\n",
      "epoch:008, train_loss:3.1839, test_loss:3.3974\n",
      "epoch:009, train_loss:3.2498, test_loss:3.3991\n",
      "epoch:010, train_loss:3.3186, test_loss:3.4001\n",
      "epoch:011, train_loss:3.1865, test_loss:3.3997\n",
      "epoch:012, train_loss:3.2831, test_loss:3.3986\n",
      "epoch:013, train_loss:3.3844, test_loss:3.3963\n",
      "epoch:014, train_loss:3.2819, test_loss:3.3966\n",
      "epoch:015, train_loss:3.3822, test_loss:3.3951\n",
      "epoch:016, train_loss:3.2470, test_loss:3.3984\n",
      "epoch:017, train_loss:3.3156, test_loss:3.3989\n",
      "epoch:018, train_loss:3.2522, test_loss:3.3920\n",
      "epoch:019, train_loss:3.3481, test_loss:3.3881\n",
      "epoch:020, train_loss:3.1813, test_loss:3.3903\n",
      "epoch:021, train_loss:3.3465, test_loss:3.3865\n",
      "epoch:022, train_loss:3.2441, test_loss:3.3955\n",
      "epoch:023, train_loss:3.2819, test_loss:3.3806\n",
      "epoch:024, train_loss:3.2509, test_loss:3.3801\n",
      "epoch:025, train_loss:3.3071, test_loss:3.3950\n",
      "epoch:026, train_loss:3.1821, test_loss:3.4165\n",
      "epoch:027, train_loss:3.3201, test_loss:3.3877\n",
      "epoch:028, train_loss:3.2499, test_loss:3.3928\n",
      "epoch:029, train_loss:3.3918, test_loss:3.3932\n",
      "epoch:030, train_loss:3.3575, test_loss:3.4279\n",
      "epoch:031, train_loss:3.4180, test_loss:3.8127\n",
      "epoch:032, train_loss:3.4102, test_loss:3.9951\n",
      "epoch:033, train_loss:4.4788, test_loss:3.5164\n",
      "epoch:034, train_loss:6.2213, test_loss:7.0391\n",
      "epoch:035, train_loss:12.3400, test_loss:17.8191\n",
      "epoch:036, train_loss:18.4557, test_loss:27.0369\n",
      "epoch:037, train_loss:21.1215, test_loss:27.6171\n",
      "epoch:038, train_loss:26.8960, test_loss:9.2771\n",
      "epoch:039, train_loss:19.0003, test_loss:36.2327\n",
      "epoch:040, train_loss:27.3530, test_loss:4.1031\n",
      "epoch:041, train_loss:24.8684, test_loss:37.1223\n",
      "epoch:042, train_loss:36.3246, test_loss:25.9561\n",
      "epoch:043, train_loss:34.6735, test_loss:37.6601\n",
      "epoch:044, train_loss:35.6698, test_loss:37.6506\n",
      "epoch:045, train_loss:36.7846, test_loss:37.6601\n",
      "epoch:046, train_loss:36.8263, test_loss:37.6601\n",
      "epoch:047, train_loss:35.3677, test_loss:37.6601\n",
      "epoch:048, train_loss:36.4729, test_loss:37.6601\n",
      "epoch:049, train_loss:35.3677, test_loss:37.6601\n",
      "epoch:050, train_loss:36.4729, test_loss:37.3779\n",
      "epoch:051, train_loss:37.5030, test_loss:37.6601\n",
      "epoch:052, train_loss:30.2926, test_loss:37.6601\n",
      "epoch:053, train_loss:36.4601, test_loss:37.6601\n",
      "epoch:054, train_loss:36.1044, test_loss:37.6601\n",
      "epoch:055, train_loss:35.5569, test_loss:37.6601\n",
      "epoch:056, train_loss:36.1045, test_loss:37.6601\n",
      "epoch:057, train_loss:36.8414, test_loss:37.6601\n",
      "epoch:058, train_loss:36.8414, test_loss:37.6601\n",
      "epoch:059, train_loss:37.2098, test_loss:37.6601\n",
      "epoch:060, train_loss:37.5782, test_loss:37.6601\n",
      "epoch:061, train_loss:36.4729, test_loss:37.6601\n",
      "epoch:062, train_loss:37.5782, test_loss:37.6601\n",
      "epoch:063, train_loss:36.1045, test_loss:37.6601\n",
      "epoch:064, train_loss:36.4729, test_loss:37.6601\n",
      "epoch:065, train_loss:36.1045, test_loss:37.6601\n",
      "epoch:066, train_loss:37.2098, test_loss:37.6601\n",
      "epoch:067, train_loss:35.7361, test_loss:37.6601\n",
      "epoch:068, train_loss:36.4729, test_loss:37.6601\n",
      "epoch:069, train_loss:36.8414, test_loss:37.6601\n",
      "epoch:070, train_loss:36.8414, test_loss:37.6601\n",
      "epoch:071, train_loss:36.8414, test_loss:37.6601\n",
      "epoch:072, train_loss:35.7361, test_loss:37.6601\n",
      "epoch:073, train_loss:35.7361, test_loss:37.6601\n",
      "epoch:074, train_loss:36.4729, test_loss:37.6601\n",
      "epoch:075, train_loss:36.1045, test_loss:37.6601\n",
      "epoch:076, train_loss:36.4729, test_loss:37.6601\n",
      "epoch:077, train_loss:36.1045, test_loss:37.6601\n",
      "epoch:078, train_loss:36.1045, test_loss:37.6601\n",
      "epoch:079, train_loss:35.3677, test_loss:37.6601\n",
      "epoch:080, train_loss:36.4729, test_loss:37.6601\n",
      "epoch:081, train_loss:37.5782, test_loss:37.6601\n",
      "epoch:082, train_loss:37.2098, test_loss:37.6601\n",
      "epoch:083, train_loss:36.1045, test_loss:37.6601\n",
      "epoch:084, train_loss:34.9993, test_loss:37.6601\n",
      "epoch:085, train_loss:36.8414, test_loss:37.6601\n",
      "epoch:086, train_loss:35.7361, test_loss:37.6601\n",
      "epoch:087, train_loss:37.2098, test_loss:37.6601\n",
      "epoch:088, train_loss:36.8414, test_loss:37.6601\n",
      "epoch:089, train_loss:37.5782, test_loss:37.6601\n",
      "epoch:090, train_loss:37.2098, test_loss:37.6601\n",
      "epoch:091, train_loss:36.8414, test_loss:37.6601\n",
      "epoch:092, train_loss:36.8414, test_loss:37.6601\n",
      "epoch:093, train_loss:36.4729, test_loss:37.6601\n",
      "epoch:094, train_loss:36.4729, test_loss:37.6601\n",
      "epoch:095, train_loss:36.8414, test_loss:37.6601\n",
      "epoch:096, train_loss:35.7361, test_loss:37.6601\n",
      "epoch:097, train_loss:36.1045, test_loss:37.6601\n",
      "epoch:098, train_loss:37.2098, test_loss:37.6601\n",
      "epoch:099, train_loss:36.8414, test_loss:37.6601\n"
     ]
    }
   ],
   "source": [
    "batch_size = 20\n",
    "epoch = 100\n",
    "N = len(X_train)\n",
    "optimizer = Sgd(lr=0.001)\n",
    "learning_curve = []\n",
    "test_learning_curve = []\n",
    "\n",
    "for i in range(epoch):\n",
    "    perm = np.random.permutation(N)\n",
    "    loss = 0\n",
    "    for j in range(0, N // batch_size):\n",
    "        train_batch = X_train[perm[j*batch_size : (j+1)*batch_size]]\n",
    "        response_batch = y_train[perm[j*batch_size : (j+1)*batch_size]]\n",
    "\n",
    "        with model.train():\n",
    "            l = rm.softmax_cross_entropy(model(train_batch), response_batch)\n",
    "        grad = l.grad()\n",
    "        grad.update(optimizer)\n",
    "        loss += l.as_ndarray()\n",
    "    train_loss = loss / (N // batch_size)\n",
    "\n",
    "    test_loss = rm.softmax_cross_entropy(model(X_test), y_test).as_ndarray()\n",
    "    test_learning_curve.append(test_loss)\n",
    "    learning_curve.append(train_loss)\n",
    "    print(\"epoch:{:03d}, train_loss:{:.4f}, test_loss:{:.4f}\".format(i, float(train_loss), float(test_loss)))"
   ]
  },
  {
   "cell_type": "code",
   "execution_count": 109,
   "metadata": {},
   "outputs": [
    {
     "name": "stdout",
     "output_type": "stream",
     "text": [
      "[[16  0  0]\n",
      " [12  0  0]\n",
      " [17  0  0]]\n",
      "             precision    recall  f1-score   support\n",
      "\n",
      "          0       0.36      1.00      0.52        16\n",
      "          1       0.00      0.00      0.00        12\n",
      "          2       0.00      0.00      0.00        17\n",
      "\n",
      "avg / total       0.13      0.36      0.19        45\n",
      "\n"
     ]
    },
    {
     "name": "stderr",
     "output_type": "stream",
     "text": [
      "/usr/local/lib/python3.6/site-packages/sklearn/metrics/classification.py:1135: UndefinedMetricWarning: Precision and F-score are ill-defined and being set to 0.0 in labels with no predicted samples.\n",
      "  'precision', 'predicted', average, warn_for)\n"
     ]
    },
    {
     "data": {
      "image/png": "[encoded data removed]",
      "text/plain": [
       "<Figure size 432x288 with 1 Axes>"
      ]
     },
     "metadata": {},
     "output_type": "display_data"
    }
   ],
   "source": [
    "predictions = np.argmax(model(X_test).as_ndarray(), axis=1)\n",
    "\n",
    "print(confusion_matrix(y_test, predictions))\n",
    "print(classification_report(y_test, predictions))\n",
    "\n",
    "plt.plot(learning_curve, linewidth=1, label=\"train\")\n",
    "plt.plot(test_learning_curve, linewidth=1, label=\"test\")\n",
    "plt.title(\"learning_curve\")\n",
    "plt.ylabel(\"error\")\n",
    "plt.xlabel(\"epoch\")\n",
    "plt.legend()\n",
    "plt.grid()\n",
    "plt.show()"
   ]
  }
 ],
 "metadata": {
  "kernelspec": {
   "display_name": "Python 3",
   "language": "python",
   "name": "python3"
  },
  "language_info": {
   "codemirror_mode": {
    "name": "ipython",
    "version": 3
   },
   "file_extension": ".py",
   "mimetype": "text/x-python",
   "name": "python",
   "nbconvert_exporter": "python",
   "pygments_lexer": "ipython3",
   "version": "3.6.5"
  }
 },
 "nbformat": 4,
 "nbformat_minor": 2
}
