{
 "cells": [
  {
   "cell_type": "code",
   "execution_count": 1,
   "metadata": {},
   "outputs": [],
   "source": [
    "import numpy as np\n",
    "from renom.utility import interpolate"
   ]
  },
  {
   "cell_type": "code",
   "execution_count": 2,
   "metadata": {},
   "outputs": [
    {
     "data": {
      "text/plain": [
       "[[2.0, 3.0, 5.0],\n",
       " [3.0, nan, 8.0],\n",
       " [6.0, nan, 9.0],\n",
       " [7.0, 9.0, nan],\n",
       " [8.0, 10.0, 10.0],\n",
       " [10.0, 12.0, 14.0]]"
      ]
     },
     "execution_count": 2,
     "metadata": {},
     "output_type": "execute_result"
    }
   ],
   "source": [
    "x = [[2.0, 3.0, 5.0], [3.0, np.nan, 8.0], [6.0, np.nan, 9.0],[7.0, 9.0, np.nan], [8.0, 10.0, 10.0], [10.0, 12.0, 14.0]]\n",
    "x"
   ]
  },
  {
   "cell_type": "code",
   "execution_count": 7,
   "metadata": {},
   "outputs": [
    {
     "data": {
      "text/plain": [
       "5.0"
      ]
     },
     "execution_count": 7,
     "metadata": {},
     "output_type": "execute_result"
    }
   ],
   "source": [
    "x_interp = interpolate(x, mode=\"linear\")\n",
    "x_interp"
   ]
  },
  {
   "cell_type": "code",
   "execution_count": 4,
   "metadata": {},
   "outputs": [
    {
     "data": {
      "text/plain": [
       "array([[ 2.        ,  3.        ,  5.        ],\n",
       "       [ 3.        ,  6.4       ,  8.        ],\n",
       "       [ 6.        ,  8.1       ,  9.        ],\n",
       "       [ 7.        ,  9.        ,  9.03571429],\n",
       "       [ 8.        , 10.        , 10.        ],\n",
       "       [10.        , 12.        , 14.        ]])"
      ]
     },
     "execution_count": 4,
     "metadata": {},
     "output_type": "execute_result"
    }
   ],
   "source": [
    "x_interp = interpolate(x, mode=\"spline\")\n",
    "x_interp"
   ]
  },
  {
   "cell_type": "code",
   "execution_count": 5,
   "metadata": {},
   "outputs": [
    {
     "data": {
      "text/plain": [
       "array([[ 2.,  3.,  5.],\n",
       "       [ 3.,  0.,  8.],\n",
       "       [ 6.,  0.,  9.],\n",
       "       [ 7.,  9.,  0.],\n",
       "       [ 8., 10., 10.],\n",
       "       [10., 12., 14.]])"
      ]
     },
     "execution_count": 5,
     "metadata": {},
     "output_type": "execute_result"
    }
   ],
   "source": [
    "x_interp = interpolate(x, mode=\"constant\", constant=0.0)\n",
    "x_interp"
   ]
  },
  {
   "cell_type": "code",
   "execution_count": 6,
   "metadata": {},
   "outputs": [
    {
     "data": {
      "text/plain": [
       "array([[ 2.,  3.,  5.],\n",
       "       [ 3.,  3.,  8.],\n",
       "       [ 6.,  9.,  9.],\n",
       "       [ 7.,  9.,  9.],\n",
       "       [ 8., 10., 10.],\n",
       "       [10., 12., 14.]])"
      ]
     },
     "execution_count": 6,
     "metadata": {},
     "output_type": "execute_result"
    }
   ],
   "source": [
    "x_interp = interpolate(x, mode=\"nearest_index\")\n",
    "x_interp"
   ]
  }
 ],
 "metadata": {
  "kernelspec": {
   "display_name": "Python 3",
   "language": "python",
   "name": "python3"
  },
  "language_info": {
   "codemirror_mode": {
    "name": "ipython",
    "version": 3
   },
   "file_extension": ".py",
   "mimetype": "text/x-python",
   "name": "python",
   "nbconvert_exporter": "python",
   "pygments_lexer": "ipython3",
   "version": "3.6.5"
  }
 },
 "nbformat": 4,
 "nbformat_minor": 2
}
