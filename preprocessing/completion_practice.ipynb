{
 "cells": [
  {
   "cell_type": "code",
   "execution_count": 1,
   "metadata": {},
   "outputs": [],
   "source": [
    "import numpy as np\n",
    "import pandas as pd\n",
    "from renom.utility import completion"
   ]
  },
  {
   "cell_type": "code",
   "execution_count": 4,
   "metadata": {},
   "outputs": [
    {
     "name": "stdout",
     "output_type": "stream",
     "text": [
      "[[215]\n",
      " [499]\n",
      " [244]\n",
      " ...\n",
      " [206]\n",
      " [266]\n",
      " [139]]\n",
      "[[225]\n",
      " [509]\n",
      " [254]\n",
      " ...\n",
      " [216]\n",
      " [276]\n",
      " [149]]\n",
      "[[140]\n",
      " [ 35]\n",
      " [254]\n",
      " ...\n",
      " [227]\n",
      " [471]\n",
      " [314]]\n",
      "[[  0]\n",
      " [293]\n",
      " [116]\n",
      " ...\n",
      " [ 78]\n",
      " [294]\n",
      " [480]]\n",
      "[['Two']\n",
      " ['One']\n",
      " ['One']\n",
      " ...\n",
      " ['One']\n",
      " ['Two']\n",
      " ['Two']]\n",
      "[['Four']\n",
      " ['Four']\n",
      " ['Four']\n",
      " ...\n",
      " ['Five']\n",
      " ['Five']\n",
      " ['Four']]\n",
      "[['215' '225' '140' '0' 'Two' 'Four']\n",
      " ['499' '509' '35' '293' 'One' 'Four']\n",
      " ['244' '254' '254' '116' 'One' 'Four']\n",
      " ...\n",
      " ['206' '216' '227' '78' 'One' 'Five']\n",
      " ['266' '276' '471' '294' 'Two' 'Five']\n",
      " ['139' '149' '314' '480' 'Two' 'Four']]\n"
     ]
    }
   ],
   "source": [
    "data_size = 10000\n",
    "x1 = np.random.randint(0, 500, data_size).reshape(-1, 1)\n",
    "print(x1)\n",
    "x2 = x1 + 10\n",
    "print(x2)\n",
    "x3 = np.random.randint(0, 500, data_size).reshape(-1, 1)\n",
    "print(x3)\n",
    "x4 = np.random.randint(0, 500, data_size).reshape(-1, 1)\n",
    "print(x4)\n",
    "x5 = np.random.choice([\"One\", \"Two\", \"Three\"], data_size, replace=True).reshape(-1, 1)\n",
    "print(x5)\n",
    "x6 = np.random.choice([\"Four\", \"Five\"], data_size, replace=True).reshape(-1, 1)\n",
    "print(x6)\n",
    "x = np.concatenate((x1, x2), axis=1)\n",
    "x = np.concatenate((x, x3), axis=1)\n",
    "x = np.concatenate((x, x4), axis=1)\n",
    "x = np.concatenate((x, x5), axis=1)\n",
    "x = np.concatenate((x, x6), axis=1)\n",
    "print(x)"
   ]
  },
  {
   "cell_type": "code",
   "execution_count": 3,
   "metadata": {},
   "outputs": [
    {
     "name": "stdout",
     "output_type": "stream",
     "text": [
      "[MICE] Completing matrix with shape (10000, 6)\n"
     ]
    },
    {
     "name": "stderr",
     "output_type": "stream",
     "text": [
      "/Users/yuto.maejima/work/projects/renom_tutorial/ReNom/renom/layers/loss/sigmoid_cross_entropy.py:18: RuntimeWarning: overflow encountered in exp\n",
      "  z = 1. / (1. + np.exp(to_value(-lhs)))\n",
      "/Users/yuto.maejima/work/projects/renom_tutorial/ReNom/renom/core.py:1341: RuntimeWarning: overflow encountered in exp\n",
      "  ret = getattr(ufunc, method)(*new_inputs, **kwargs)\n"
     ]
    },
    {
     "name": "stdout",
     "output_type": "stream",
     "text": [
      "[MICE] Starting imputation round 10/60, elapsed time 116.611\n",
      "[MICE] Starting imputation round 20/60, elapsed time 231.147\n",
      "[MICE] Starting imputation round 30/60, elapsed time 353.679\n",
      "[MICE] Starting imputation round 40/60, elapsed time 472.848\n",
      "[MICE] Starting imputation round 50/60, elapsed time 590.849\n",
      "[MICE] Starting imputation round 60/60, elapsed time 713.278\n"
     ]
    },
    {
     "data": {
      "text/plain": [
       "array([[133.0, 143.0, 151.0, 248.0, 'One', 'Five'],\n",
       "       [3.8101701469160014, 11.0, 37.0, 221.0, 'One', 'Four'],\n",
       "       [172.0, 182.0, 407.0, 238.0, 'Two', 'Four'],\n",
       "       ...,\n",
       "       [191.0, 201.0, 349.0, 27.0, 'Two', 'Four'],\n",
       "       [346.0, 356.0, 220.0, 44.0, 'Three', 'Five'],\n",
       "       [32.51599940949011, 39.0, 366.0, 132.0, 'Three', 'Four']],\n",
       "      dtype=object)"
      ]
     },
     "execution_count": 3,
     "metadata": {},
     "output_type": "execute_result"
    }
   ],
   "source": [
    "missing_idx = np.random.permutation(data_size)\n",
    "missing_idx1 = missing_idx[:1000]\n",
    "missing_idx2 = missing_idx[-1010:]\n",
    "missing_idx3 = missing_idx[2000:3050]\n",
    "df = pd.DataFrame(x)\n",
    "df.columns = [\"x1\", \"x2\", \"x3\", \"x4\", \"x5\", \"x6\"]\n",
    "df = df.astype({\"x1\":float, \"x2\":float, \"x3\":float, \"x4\":float, \"x5\":str, \"x6\":str})\n",
    "X_complete = df.values\n",
    "df.loc[df[\"x2\"]<50, \"x1\"] = np.nan\n",
    "df.iloc[list(missing_idx1), 2] = np.nan\n",
    "df.iloc[list(missing_idx2), 4] = np.nan\n",
    "df.iloc[list(missing_idx3), 5] = np.nan\n",
    "X_incomplete = df.values\n",
    "X_filled = completion(X_incomplete, mode=\"mice\", impute_type=\"col\")\n",
    "X_filled"
   ]
  }
 ],
 "metadata": {
  "kernelspec": {
   "display_name": "Python 3",
   "language": "python",
   "name": "python3"
  },
  "language_info": {
   "codemirror_mode": {
    "name": "ipython",
    "version": 3
   },
   "file_extension": ".py",
   "mimetype": "text/x-python",
   "name": "python",
   "nbconvert_exporter": "python",
   "pygments_lexer": "ipython3",
   "version": "3.6.5"
  }
 },
 "nbformat": 4,
 "nbformat_minor": 2
}
