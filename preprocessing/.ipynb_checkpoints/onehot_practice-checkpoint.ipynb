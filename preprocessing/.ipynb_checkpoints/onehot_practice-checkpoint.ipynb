{
 "cells": [
  {
   "cell_type": "code",
   "execution_count": 26,
   "metadata": {},
   "outputs": [],
   "source": [
    "from __future__ import division, print_function\n",
    "import numpy as np\n",
    "import pandas as pd\n",
    "\n",
    "import renom as rm\n",
    "from renom.optimizer import Sgd, Adam\n",
    "from renom.cuda import set_cuda_active\n",
    "\n",
    "from sklearn.preprocessing import LabelBinarizer, label_binarize\n",
    "from sklearn.metrics import confusion_matrix, classification_report\n",
    "import matplotlib.pyplot as plt\n",
    "# If you would like to use GPU, set True, otherwise you should be set to False.\n",
    "set_cuda_active(False)"
   ]
  },
  {
   "cell_type": "code",
   "execution_count": 27,
   "metadata": {},
   "outputs": [],
   "source": [
    "def make_col_names():\n",
    "    col_names = []\n",
    "    continuous_dict = {}\n",
    "    for i,line in enumerate(open(\"adult.names\",\"r\"),1):\n",
    "        if i > 96:   # adult.names のファイルの中に96行のヘッダーがあるため\n",
    "            line = line.rstrip()\n",
    "            name = line.split(\":\")[0]   # 各行、コロンの左が各行のカラム名になっている\n",
    "            col_names.append(name)   # 全てのカラムを格納する配列\n",
    "            line = line.replace(\" \",\"\").replace(\".\",\"\")   # 各行の最後に\".\"がついているので除去（スペースも）\n",
    "            continuous = line.split(\":\")[1] == \"continuous\"   # 数値データの場合はコロンの右に\"continuous\"と書かれている\n",
    "            continuous_dict[name] = continuous   # 数値データだけを格納するdict\n",
    "    col_names.append(\"label\")   # これはなんだろう？\n",
    "    continuous_dict[\"label\"] = False   # これはなんだろう？\n",
    "    return col_names, continuous_dict"
   ]
  },
  {
   "cell_type": "code",
   "execution_count": 28,
   "metadata": {},
   "outputs": [],
   "source": [
    "n_id = 0\n",
    "col_names, continuous_dicts = make_col_names()"
   ]
  },
  {
   "cell_type": "code",
   "execution_count": 29,
   "metadata": {},
   "outputs": [],
   "source": [
    "def load_data(filename, col_names, n):\n",
    "    df = pd.read_csv(filename, header=None, index_col=None)\n",
    "    # Display the number of records before delete missing valeus.\n",
    "    # 欠損値を消去する前のデータのレコード数を表示\n",
    "    print(\"the number of {} records:{}\\n\".format(filename, len(df.index)))\n",
    "    df.columns = col_names\n",
    "\n",
    "    # Replace the missing value's character to np.nan.\n",
    "    # applymap(): DataFrame の各要素に関数を適応\n",
    "    # 1. 欠損値を `np.nan` に統一\n",
    "    df = df.applymap(lambda d: np.nan if d==\" ?\" else d)\n",
    "\n",
    "    # Unify the different written forms.\n",
    "    # 2. 説明変数や正解ラベルの表記を統一\n",
    "    df = df.applymap(lambda d: \" <=50K\" if d==\" <=50K.\" else d)\n",
    "    df = df.applymap(lambda d: \" >50K\" if d==\" >50K.\" else d)\n",
    "\n",
    "    # Display the information about missing values and\n",
    "    print(\"missing value info:\\n{}\\n\".format(df.isnull().sum(axis=0)))\n",
    "    df = df.dropna(axis=0)\n",
    "\n",
    "    # the number of records after delete missing valeus.\n",
    "    # 欠損値を消去した後のデータのレコード数を表示\n",
    "    print(\"the number of {} records after trimming:{}\\n\".format(filename, len(df.index)))\n",
    "    ids = list(np.arange(n, n+len(df.index)))\n",
    "    df[\"ID\"] = np.array(ids)\n",
    "    n = n+len(df.index)\n",
    "    return df,n"
   ]
  },
  {
   "cell_type": "code",
   "execution_count": 30,
   "metadata": {},
   "outputs": [
    {
     "name": "stdout",
     "output_type": "stream",
     "text": [
      "the number of adult.data records:32561\n",
      "\n",
      "missing value info:\n",
      "age                  0\n",
      "workclass         1836\n",
      "fnlwgt               0\n",
      "education            0\n",
      "education-num        0\n",
      "marital-status       0\n",
      "occupation        1843\n",
      "relationship         0\n",
      "race                 0\n",
      "sex                  0\n",
      "capital-gain         0\n",
      "capital-loss         0\n",
      "hours-per-week       0\n",
      "native-country     583\n",
      "label                0\n",
      "dtype: int64\n",
      "\n",
      "the number of adult.data records after trimming:30162\n",
      "\n",
      "the number of adult.test records:16281\n",
      "\n",
      "missing value info:\n",
      "age                 0\n",
      "workclass         963\n",
      "fnlwgt              0\n",
      "education           0\n",
      "education-num       0\n",
      "marital-status      0\n",
      "occupation        966\n",
      "relationship        0\n",
      "race                0\n",
      "sex                 0\n",
      "capital-gain        0\n",
      "capital-loss        0\n",
      "hours-per-week      0\n",
      "native-country    274\n",
      "label               0\n",
      "dtype: int64\n",
      "\n",
      "the number of adult.test records after trimming:15060\n",
      "\n"
     ]
    }
   ],
   "source": [
    "df_train,n_id_train = load_data(\"adult.data\", col_names, n_id)\n",
    "df_test,n_id_test = load_data(\"adult.test\", col_names, n_id_train)"
   ]
  },
  {
   "cell_type": "code",
   "execution_count": 31,
   "metadata": {},
   "outputs": [],
   "source": [
    "def get_not_continuous_columns(continuous_dict):\n",
    "    categorical_names = [k for k, v in continuous_dict.items() if not v]\n",
    "    return categorical_names"
   ]
  },
  {
   "cell_type": "code",
   "execution_count": 32,
   "metadata": {},
   "outputs": [],
   "source": [
    "def print_labelinfo(labelnames):\n",
    "    for i in range(len(labelnames)):\n",
    "        print(\"label{}:{}\".format(i,labelnames[i]))"
   ]
  },
  {
   "cell_type": "code",
   "execution_count": 38,
   "metadata": {},
   "outputs": [],
   "source": [
    "def convert_data(df_train, df_test, n_id_train, n_id_test, continuous_dicts):\n",
    "    import pdb; pdb.set_trace()\n",
    "    categorical_names = get_not_continuous_columns(continuous_dicts)\n",
    "            # categorical_names = ['workclass', 'education', 'marital-status', 'occupation', \n",
    "            #    'relationship', 'race', 'sex', 'native-country', 'label']\n",
    "    \n",
    "    df = pd.concat((df_train, df_test), axis=0)\n",
    "            # df.columns = Index(['age', 'workclass', 'fnlwgt', 'education', 'education-num',\n",
    "            #   'marital-status', 'occupation', 'relationship', 'race', 'sex',\n",
    "            #   'capital-gain', 'capital-loss', 'hours-per-week', 'native-country',\n",
    "            #   'label', 'ID'],\n",
    "            #  dtype='object')\n",
    "\n",
    "    \n",
    "    # Get the dummy for the categorical data.\n",
    "    # TODO: 何をしているのか追えていない\n",
    "    for name in categorical_names:\n",
    "        if name==\"label\":\n",
    "            labelnames = list(pd.get_dummies(df[name]).columns)\n",
    "            print(\"labelname:{}\".format(labelnames))\n",
    "        dummy_df = pd.get_dummies(df[name])\n",
    "        df = pd.concat((df, dummy_df), axis=1)\n",
    "        df = df.drop(name, axis=1)\n",
    "\n",
    "    # Convert the data type.\n",
    "    for name in df.columns:\n",
    "        df[name] = df[name].astype(float)\n",
    "\n",
    "    # Reguralize the data.\n",
    "    for name in df.columns:\n",
    "        if name==\"ID\":\n",
    "            df[name] = df[name]\n",
    "        else:\n",
    "            df[name] = (df[name] - df[name].min()) / (df[name].max() - df[name].min())\n",
    "\n",
    "    df_train = df[df[\"ID\"]<n_id_train].drop(\"ID\", axis=1)\n",
    "    df_test = df[df[\"ID\"]>=n_id_train].drop(\"ID\", axis=1)\n",
    "\n",
    "    y_train = df_train[labelnames].values\n",
    "    y_test = df_test[labelnames].values\n",
    "    print_labelinfo(labelnames)\n",
    "    X_train = df_train.drop(labelnames, axis=1).values\n",
    "    X_test = df_test.drop(labelnames, axis=1).values\n",
    "    return X_train, y_train, X_test, y_test"
   ]
  },
  {
   "cell_type": "code",
   "execution_count": 40,
   "metadata": {},
   "outputs": [
    {
     "name": "stdout",
     "output_type": "stream",
     "text": [
      "> <ipython-input-38-0ef976d8d804>(3)convert_data()\n",
      "-> categorical_names = get_not_continuous_columns(continuous_dicts)\n",
      "(Pdb) c\n",
      "labelname:[' <=50K', ' >50K']\n",
      "label0: <=50K\n",
      "label1: >50K\n",
      "X_train:(30162, 104) y_train:(30162, 2) X_test:(15060, 104) y_test:(15060, 2)\n"
     ]
    }
   ],
   "source": [
    "X_train, y_train, X_test, y_test = \\\n",
    "convert_data(df_train, df_test, n_id_train, n_id_test, continuous_dicts)\n",
    "print(\"X_train:{} y_train:{} X_test:{} y_test:{}\".format(X_train.shape, y_train.shape, X_test.shape, y_test.shape))"
   ]
  },
  {
   "cell_type": "code",
   "execution_count": 35,
   "metadata": {},
   "outputs": [],
   "source": [
    "sequential = rm.Sequential([\n",
    "    rm.Dense(128),\n",
    "    rm.Relu(),\n",
    "    rm.Dense(64),\n",
    "    rm.Relu(),\n",
    "    rm.Dense(2)\n",
    "])"
   ]
  },
  {
   "cell_type": "code",
   "execution_count": 36,
   "metadata": {},
   "outputs": [
    {
     "name": "stdout",
     "output_type": "stream",
     "text": [
      "epoch:000, train_loss:0.6140, test_loss:0.5609\n",
      "epoch:050, train_loss:0.3661, test_loss:0.3655\n",
      "epoch:100, train_loss:0.3505, test_loss:0.3523\n",
      "epoch:150, train_loss:0.3432, test_loss:0.3466\n",
      "epoch:200, train_loss:0.3385, test_loss:0.3433\n",
      "epoch:250, train_loss:0.3354, test_loss:0.3406\n",
      "epoch:300, train_loss:0.3325, test_loss:0.3385\n",
      "epoch:350, train_loss:0.3290, test_loss:0.3366\n",
      "epoch:400, train_loss:0.3268, test_loss:0.3349\n",
      "epoch:450, train_loss:0.3238, test_loss:0.3333\n"
     ]
    }
   ],
   "source": [
    "batch_size = 128\n",
    "epoch = 500\n",
    "N = len(X_train)\n",
    "optimizer = Sgd(lr=0.001)\n",
    "learning_curve = []\n",
    "test_learning_curve = []\n",
    "\n",
    "for i in range(epoch):\n",
    "    perm = np.random.permutation(N)\n",
    "    loss = 0\n",
    "    for j in range(0, N // batch_size):\n",
    "        train_batch = X_train[perm[j*batch_size : (j+1)*batch_size]]\n",
    "        response_batch = y_train[perm[j*batch_size : (j+1)*batch_size]]\n",
    "\n",
    "        with sequential.train():\n",
    "            l = rm.softmax_cross_entropy(sequential(train_batch), response_batch)\n",
    "        grad = l.grad()\n",
    "        grad.update(optimizer)\n",
    "        loss += l.as_ndarray()\n",
    "    train_loss = loss / (N // batch_size)\n",
    "\n",
    "    test_loss = rm.softmax_cross_entropy(sequential(X_test), y_test).as_ndarray()\n",
    "    test_learning_curve.append(test_loss)\n",
    "    learning_curve.append(train_loss)\n",
    "    if i % 50 == 0:\n",
    "        print(\"epoch:{:03d}, train_loss:{:.4f}, test_loss:{:.4f}\".format(i, float(train_loss), float(test_loss)))"
   ]
  },
  {
   "cell_type": "code",
   "execution_count": 37,
   "metadata": {},
   "outputs": [
    {
     "name": "stdout",
     "output_type": "stream",
     "text": [
      "[[10497   863]\n",
      " [ 1514  2186]]\n",
      "             precision    recall  f1-score   support\n",
      "\n",
      "          0       0.87      0.92      0.90     11360\n",
      "          1       0.72      0.59      0.65      3700\n",
      "\n",
      "avg / total       0.84      0.84      0.84     15060\n",
      "\n"
     ]
    },
    {
     "data": {
      "image/png": "[encoded data removed]",
      "text/plain": [
       "<Figure size 432x288 with 1 Axes>"
      ]
     },
     "metadata": {},
     "output_type": "display_data"
    }
   ],
   "source": [
    "predictions = np.argmax(sequential(X_test).as_ndarray(), axis=1)\n",
    "ans_train = np.array([list(row).index(1.0) for row in y_train])\n",
    "ans_test = np.array([list(row).index(1.0) for row in y_test])\n",
    "\n",
    "print(confusion_matrix(ans_test, predictions))\n",
    "print(classification_report(ans_test, predictions))\n",
    "\n",
    "plt.plot(learning_curve, linewidth=1, label=\"train\")\n",
    "plt.plot(test_learning_curve, linewidth=1, label=\"test\")\n",
    "plt.title(\"learning_curve\")\n",
    "plt.ylabel(\"error\")\n",
    "plt.xlabel(\"epoch\")\n",
    "plt.legend()\n",
    "plt.grid()\n",
    "plt.show()"
   ]
  },
  {
   "cell_type": "code",
   "execution_count": null,
   "metadata": {},
   "outputs": [],
   "source": []
  }
 ],
 "metadata": {
  "kernelspec": {
   "display_name": "Python 3",
   "language": "python",
   "name": "python3"
  },
  "language_info": {
   "codemirror_mode": {
    "name": "ipython",
    "version": 3
   },
   "file_extension": ".py",
   "mimetype": "text/x-python",
   "name": "python",
   "nbconvert_exporter": "python",
   "pygments_lexer": "ipython3",
   "version": "3.6.5"
  }
 },
 "nbformat": 4,
 "nbformat_minor": 2
}
