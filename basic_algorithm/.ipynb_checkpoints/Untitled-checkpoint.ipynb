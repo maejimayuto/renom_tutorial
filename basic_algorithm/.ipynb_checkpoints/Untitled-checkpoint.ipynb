{
 "cells": [
  {
   "cell_type": "code",
   "execution_count": 1,
   "metadata": {},
   "outputs": [],
   "source": [
    "from __future__ import division, print_function\n",
    "import matplotlib.pyplot as plt\n",
    "import numpy as np\n",
    "\n",
    "from sklearn.datasets import fetch_mldata\n",
    "from sklearn.model_selection import train_test_split\n",
    "from sklearn.preprocessing import LabelBinarizer\n",
    "from sklearn.metrics import confusion_matrix, classification_report\n",
    "\n",
    "import renom as rm\n",
    "from renom.optimizer import Sgd"
   ]
  },
  {
   "cell_type": "code",
   "execution_count": 3,
   "metadata": {},
   "outputs": [],
   "source": [
    "# Datapath must point to the directory containing the mldata folder.\n",
    "# data_path = \".\" # これではエラーになる（今までとデータの配置を変える必要がある）\n",
    "data_path = \"../dataset\"\n",
    "mnist = fetch_mldata('MNIST original', data_home=data_path)\n",
    "\n",
    "X = mnist.data\n",
    "y = mnist.target\n",
    "\n",
    "# Rescale the image data to 0 ~ 1.\n",
    "X = X.astype(np.float32)\n",
    "X /= X.max()\n",
    "\n",
    "X_train, X_test, y_train, y_test = train_test_split(X, y, test_size=0.1)\n",
    "labels_train = LabelBinarizer().fit_transform(y_train).astype(np.float32)\n",
    "labels_test = LabelBinarizer().fit_transform(y_test).astype(np.float32)\n",
    "\n",
    "# Training data size.\n",
    "N = len(X_train)"
   ]
  },
  {
   "cell_type": "code",
   "execution_count": null,
   "metadata": {},
   "outputs": [],
   "source": [
    "class Mnist(rm.Model):\n",
    "\n",
    "    def __init__(self):\n",
    "        super(Mnist, self).__init__()\n",
    "        self._layer1 = rm.Dense(100)\n",
    "        self._layer2 = rm.Dense(10)\n",
    "        self._dropout1 = rm.Dropout(dropout_ratio=0.5)\n",
    "\n",
    "    # 今回のカギとなる Dropout\n",
    "    def forward(self, x):\n",
    "        t1 = self._dropout1(self._layer1(x))\n",
    "        out = self._layer2(t1)\n",
    "        return out"
   ]
  },
  {
   "cell_type": "code",
   "execution_count": null,
   "metadata": {},
   "outputs": [],
   "source": [
    "network = Mnist()"
   ]
  },
  {
   "cell_type": "code",
   "execution_count": null,
   "metadata": {},
   "outputs": [],
   "source": [
    "# Hyper parameters\n",
    "batch = 64\n",
    "epoch = 50\n",
    "\n",
    "optimizer = Sgd(lr = 0.01)\n",
    "\n",
    "learning_curve = []\n",
    "test_learning_curve = []\n",
    "\n",
    "for i in range(epoch):\n",
    "    perm = np.random.permutation(N)\n",
    "    loss = 0\n",
    "    for j in range(0, N // batch):\n",
    "        train_batch = X_train[perm[j * batch:(j + 1) * batch]]\n",
    "        responce_batch = labels_train[perm[j * batch:(j + 1) * batch]]\n",
    "\n",
    "        # The computational graph is only generated for this block:\n",
    "        with network.train():\n",
    "            l = rm.softmax_cross_entropy(network(train_batch), responce_batch)\n",
    "\n",
    "        # Back propagation\n",
    "        grad = l.grad()\n",
    "\n",
    "        # Update\n",
    "        grad.update(optimizer)\n",
    "\n",
    "        # Changing type to ndarray is recommended.\n",
    "        loss += l.as_ndarray()\n",
    "\n",
    "    train_loss = loss / (N // batch)\n",
    "\n",
    "    # Validation\n",
    "    test_loss = rm.softmax_cross_entropy(network(X_test), labels_test).as_ndarray()\n",
    "    test_learning_curve.append(test_loss)\n",
    "    learning_curve.append(train_loss)\n",
    "    if i % 2 == 0:\n",
    "        print(\"epoch %03d train_loss:%f test_loss:%f\"%(i, train_loss, test_loss))"
   ]
  },
  {
   "cell_type": "code",
   "execution_count": null,
   "metadata": {},
   "outputs": [],
   "source": [
    "network.set_models(inference=True)"
   ]
  },
  {
   "cell_type": "code",
   "execution_count": null,
   "metadata": {},
   "outputs": [],
   "source": [
    "predictions = np.argmax(network(X_test).as_ndarray(), axis=1)\n",
    "\n",
    "# Confusion matrix and classification report.\n",
    "print(confusion_matrix(y_test, predictions))\n",
    "print(classification_report(y_test, predictions))\n",
    "\n",
    "# Learning curve.\n",
    "plt.plot(learning_curve, linewidth=3, label=\"train\")\n",
    "plt.plot(test_learning_curve, linewidth=3, label=\"test\")\n",
    "plt.title(\"Learning curve\")\n",
    "plt.ylabel(\"error\")\n",
    "plt.xlabel(\"epoch\")\n",
    "plt.legend()\n",
    "plt.grid()\n",
    "plt.show()"
   ]
  }
 ],
 "metadata": {
  "kernelspec": {
   "display_name": "Python 3",
   "language": "python",
   "name": "python3"
  },
  "language_info": {
   "codemirror_mode": {
    "name": "ipython",
    "version": 3
   },
   "file_extension": ".py",
   "mimetype": "text/x-python",
   "name": "python",
   "nbconvert_exporter": "python",
   "pygments_lexer": "ipython3",
   "version": "3.6.5"
  }
 },
 "nbformat": 4,
 "nbformat_minor": 2
}
