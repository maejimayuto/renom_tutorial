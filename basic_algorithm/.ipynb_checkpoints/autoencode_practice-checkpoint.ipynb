{
 "cells": [
  {
   "cell_type": "code",
   "execution_count": 1,
   "metadata": {},
   "outputs": [],
   "source": [
    "import numpy as np\n",
    "np.seterr(all=\"ignore\")\n",
    "\n",
    "import matplotlib.pyplot as plt\n",
    "%matplotlib inline\n",
    "\n",
    "from sklearn.datasets import fetch_mldata\n",
    "from sklearn.model_selection import train_test_split\n",
    "from sklearn.preprocessing import LabelBinarizer\n",
    "from sklearn.metrics import classification_report\n",
    "\n",
    "import renom as rm\n",
    "from renom.optimizer import Adam\n",
    "from renom.utility.initializer import Gaussian\n",
    "\n",
    "# np.set_printoptions(threshold=np.inf)"
   ]
  },
  {
   "cell_type": "code",
   "execution_count": 19,
   "metadata": {},
   "outputs": [
    {
     "name": "stdout",
     "output_type": "stream",
     "text": [
      "[[0 0 0 ... 0 0 0]\n",
      " [0 0 0 ... 0 0 0]\n",
      " [0 0 0 ... 0 0 0]\n",
      " ...\n",
      " [0 0 0 ... 0 0 0]\n",
      " [0 0 0 ... 0 0 0]\n",
      " [0 0 0 ... 0 0 0]] <class 'numpy.ndarray'> (70000, 784)\n",
      "[  0   0   0   0   0   0   0   0   0   0   0   0   0   0   0   0   0   0\n",
      "   0   0   0   0   0   0   0   0   0   0   0   0   0   0   0   0   0   0\n",
      "   0   0   0   0   0   0   0   0   0   0   0   0   0   0   0   0   0   0\n",
      "   0   0   0   0   0   0   0   0   0   0   0   0   0   0   0   0   0   0\n",
      "   0   0   0   0   0   0   0   0   0   0   0   0   0   0   0   0   0   0\n",
      "   0   0   0   0   0   0   0   0   0   0   0   0   0   0   0   0   0   0\n",
      "   0   0   0   0   0   0   0   0   0   0   0   0   0   0   0   0   0   0\n",
      "   0  51 159 253 159  50   0   0   0   0   0   0   0   0   0   0   0   0\n",
      "   0   0   0   0   0   0   0   0   0   0  48 238 252 252 252 237   0   0\n",
      "   0   0   0   0   0   0   0   0   0   0   0   0   0   0   0   0   0   0\n",
      "   0  54 227 253 252 239 233 252  57   6   0   0   0   0   0   0   0   0\n",
      "   0   0   0   0   0   0   0   0   0  10  60 224 252 253 252 202  84 252\n",
      " 253 122   0   0   0   0   0   0   0   0   0   0   0   0   0   0   0   0\n",
      "   0 163 252 252 252 253 252 252  96 189 253 167   0   0   0   0   0   0\n",
      "   0   0   0   0   0   0   0   0   0   0  51 238 253 253 190 114 253 228\n",
      "  47  79 255 168   0   0   0   0   0   0   0   0   0   0   0   0   0   0\n",
      "   0  48 238 252 252 179  12  75 121  21   0   0 253 243  50   0   0   0\n",
      "   0   0   0   0   0   0   0   0   0   0  38 165 253 233 208  84   0   0\n",
      "   0   0   0   0 253 252 165   0   0   0   0   0   0   0   0   0   0   0\n",
      "   0   7 178 252 240  71  19  28   0   0   0   0   0   0 253 252 195   0\n",
      "   0   0   0   0   0   0   0   0   0   0   0  57 252 252  63   0   0   0\n",
      "   0   0   0   0   0   0 253 252 195   0   0   0   0   0   0   0   0   0\n",
      "   0   0   0 198 253 190   0   0   0   0   0   0   0   0   0   0 255 253\n",
      " 196   0   0   0   0   0   0   0   0   0   0   0  76 246 252 112   0   0\n",
      "   0   0   0   0   0   0   0   0 253 252 148   0   0   0   0   0   0   0\n",
      "   0   0   0   0  85 252 230  25   0   0   0   0   0   0   0   0   7 135\n",
      " 253 186  12   0   0   0   0   0   0   0   0   0   0   0  85 252 223   0\n",
      "   0   0   0   0   0   0   0   7 131 252 225  71   0   0   0   0   0   0\n",
      "   0   0   0   0   0   0  85 252 145   0   0   0   0   0   0   0  48 165\n",
      " 252 173   0   0   0   0   0   0   0   0   0   0   0   0   0   0  86 253\n",
      " 225   0   0   0   0   0   0 114 238 253 162   0   0   0   0   0   0   0\n",
      "   0   0   0   0   0   0   0   0  85 252 249 146  48  29  85 178 225 253\n",
      " 223 167  56   0   0   0   0   0   0   0   0   0   0   0   0   0   0   0\n",
      "  85 252 252 252 229 215 252 252 252 196 130   0   0   0   0   0   0   0\n",
      "   0   0   0   0   0   0   0   0   0   0  28 199 252 252 253 252 252 233\n",
      " 145   0   0   0   0   0   0   0   0   0   0   0   0   0   0   0   0   0\n",
      "   0   0   0  25 128 252 253 252 141  37   0   0   0   0   0   0   0   0\n",
      "   0   0   0   0   0   0   0   0   0   0   0   0   0   0   0   0   0   0\n",
      "   0   0   0   0   0   0   0   0   0   0   0   0   0   0   0   0   0   0\n",
      "   0   0   0   0   0   0   0   0   0   0   0   0   0   0   0   0   0   0\n",
      "   0   0   0   0   0   0   0   0   0   0   0   0   0   0   0   0   0   0\n",
      "   0   0   0   0   0   0   0   0   0   0   0   0   0   0   0   0   0   0\n",
      "   0   0   0   0   0   0   0   0   0   0   0   0   0   0   0   0   0   0\n",
      "   0   0   0   0   0   0   0   0   0   0]\n",
      "[0. 0. 0. ... 9. 9. 9.] <class 'numpy.ndarray'> (70000,)\n",
      "[[0. 0. 0. ... 0. 0. 0.]\n",
      " [0. 0. 0. ... 0. 0. 0.]\n",
      " [0. 0. 0. ... 0. 0. 0.]\n",
      " ...\n",
      " [0. 0. 0. ... 0. 0. 0.]\n",
      " [0. 0. 0. ... 0. 0. 0.]\n",
      " [0. 0. 0. ... 0. 0. 0.]] <class 'numpy.ndarray'> float32\n",
      "[  0.   0.   0.   0.   0.   0.   0.   0.   0.   0.   0.   0.   0.   0.\n",
      "   0.   0.   0.   0.   0.   0.   0.   0.   0.   0.   0.   0.   0.   0.\n",
      "   0.   0.   0.   0.   0.   0.   0.   0.   0.   0.   0.   0.   0.   0.\n",
      "   0.   0.   0.   0.   0.   0.   0.   0.   0.   0.   0.   0.   0.   0.\n",
      "   0.   0.   0.   0.   0.   0.   0.   0.   0.   0.   0.   0.   0.   0.\n",
      "   0.   0.   0.   0.   0.   0.   0.   0.   0.   0.   0.   0.   0.   0.\n",
      "   0.   0.   0.   0.   0.   0.   0.   0.   0.   0.   0.   0.   0.   0.\n",
      "   0.   0.   0.   0.   0.   0.   0.   0.   0.   0.   0.   0.   0.   0.\n",
      "   0.   0.   0.   0.   0.   0.   0.   0.   0.   0.   0.   0.   0.   0.\n",
      "   0.  51. 159. 253. 159.  50.   0.   0.   0.   0.   0.   0.   0.   0.\n",
      "   0.   0.   0.   0.   0.   0.   0.   0.   0.   0.   0.   0.   0.   0.\n",
      "  48. 238. 252. 252. 252. 237.   0.   0.   0.   0.   0.   0.   0.   0.\n",
      "   0.   0.   0.   0.   0.   0.   0.   0.   0.   0.   0.   0.   0.  54.\n",
      " 227. 253. 252. 239. 233. 252.  57.   6.   0.   0.   0.   0.   0.   0.\n",
      "   0.   0.   0.   0.   0.   0.   0.   0.   0.   0.   0.  10.  60. 224.\n",
      " 252. 253. 252. 202.  84. 252. 253. 122.   0.   0.   0.   0.   0.   0.\n",
      "   0.   0.   0.   0.   0.   0.   0.   0.   0.   0.   0. 163. 252. 252.\n",
      " 252. 253. 252. 252.  96. 189. 253. 167.   0.   0.   0.   0.   0.   0.\n",
      "   0.   0.   0.   0.   0.   0.   0.   0.   0.   0.  51. 238. 253. 253.\n",
      " 190. 114. 253. 228.  47.  79. 255. 168.   0.   0.   0.   0.   0.   0.\n",
      "   0.   0.   0.   0.   0.   0.   0.   0.   0.  48. 238. 252. 252. 179.\n",
      "  12.  75. 121.  21.   0.   0. 253. 243.  50.   0.   0.   0.   0.   0.\n",
      "   0.   0.   0.   0.   0.   0.   0.   0.  38. 165. 253. 233. 208.  84.\n",
      "   0.   0.   0.   0.   0.   0. 253. 252. 165.   0.   0.   0.   0.   0.\n",
      "   0.   0.   0.   0.   0.   0.   0.   7. 178. 252. 240.  71.  19.  28.\n",
      "   0.   0.   0.   0.   0.   0. 253. 252. 195.   0.   0.   0.   0.   0.\n",
      "   0.   0.   0.   0.   0.   0.   0.  57. 252. 252.  63.   0.   0.   0.\n",
      "   0.   0.   0.   0.   0.   0. 253. 252. 195.   0.   0.   0.   0.   0.\n",
      "   0.   0.   0.   0.   0.   0.   0. 198. 253. 190.   0.   0.   0.   0.\n",
      "   0.   0.   0.   0.   0.   0. 255. 253. 196.   0.   0.   0.   0.   0.\n",
      "   0.   0.   0.   0.   0.   0.  76. 246. 252. 112.   0.   0.   0.   0.\n",
      "   0.   0.   0.   0.   0.   0. 253. 252. 148.   0.   0.   0.   0.   0.\n",
      "   0.   0.   0.   0.   0.   0.  85. 252. 230.  25.   0.   0.   0.   0.\n",
      "   0.   0.   0.   0.   7. 135. 253. 186.  12.   0.   0.   0.   0.   0.\n",
      "   0.   0.   0.   0.   0.   0.  85. 252. 223.   0.   0.   0.   0.   0.\n",
      "   0.   0.   0.   7. 131. 252. 225.  71.   0.   0.   0.   0.   0.   0.\n",
      "   0.   0.   0.   0.   0.   0.  85. 252. 145.   0.   0.   0.   0.   0.\n",
      "   0.   0.  48. 165. 252. 173.   0.   0.   0.   0.   0.   0.   0.   0.\n",
      "   0.   0.   0.   0.   0.   0.  86. 253. 225.   0.   0.   0.   0.   0.\n",
      "   0. 114. 238. 253. 162.   0.   0.   0.   0.   0.   0.   0.   0.   0.\n",
      "   0.   0.   0.   0.   0.   0.  85. 252. 249. 146.  48.  29.  85. 178.\n",
      " 225. 253. 223. 167.  56.   0.   0.   0.   0.   0.   0.   0.   0.   0.\n",
      "   0.   0.   0.   0.   0.   0.  85. 252. 252. 252. 229. 215. 252. 252.\n",
      " 252. 196. 130.   0.   0.   0.   0.   0.   0.   0.   0.   0.   0.   0.\n",
      "   0.   0.   0.   0.   0.   0.  28. 199. 252. 252. 253. 252. 252. 233.\n",
      " 145.   0.   0.   0.   0.   0.   0.   0.   0.   0.   0.   0.   0.   0.\n",
      "   0.   0.   0.   0.   0.   0.   0.  25. 128. 252. 253. 252. 141.  37.\n",
      "   0.   0.   0.   0.   0.   0.   0.   0.   0.   0.   0.   0.   0.   0.\n",
      "   0.   0.   0.   0.   0.   0.   0.   0.   0.   0.   0.   0.   0.   0.\n",
      "   0.   0.   0.   0.   0.   0.   0.   0.   0.   0.   0.   0.   0.   0.\n",
      "   0.   0.   0.   0.   0.   0.   0.   0.   0.   0.   0.   0.   0.   0.\n",
      "   0.   0.   0.   0.   0.   0.   0.   0.   0.   0.   0.   0.   0.   0.\n",
      "   0.   0.   0.   0.   0.   0.   0.   0.   0.   0.   0.   0.   0.   0.\n",
      "   0.   0.   0.   0.   0.   0.   0.   0.   0.   0.   0.   0.   0.   0.\n",
      "   0.   0.   0.   0.   0.   0.   0.   0.   0.   0.   0.   0.   0.   0.\n",
      "   0.   0.   0.   0.   0.   0.   0.   0.   0.   0.   0.   0.   0.   0.]\n",
      "[0. 0. 0. ... 9. 9. 9.] <class 'numpy.ndarray'>\n"
     ]
    }
   ],
   "source": [
    "# 'data_path' must point to the directory containing the data folder.\n",
    "data_path = \"../dataset\"\n",
    "mnist = fetch_mldata('MNIST original', data_home=data_path)\n",
    "\n",
    "X = mnist.data\n",
    "print(X, type(X), X.shape)\n",
    "print(X[0])\n",
    "y = mnist.target\n",
    "print(y, type(y), y.shape)\n",
    "\n",
    "# Binarize (\"one-hot\") the image data.\n",
    "X = X.astype(np.float32)\n",
    "print(X, type(X), X.dtype)\n",
    "print(X[0])\n",
    "y = y.astype(np.float32)\n",
    "print(y, type(y))\n",
    "# なんでfloatにしているのだろうか\n",
    "X = np.array(X > 128, dtype=np.float32)\n",
    "# print(X, type(X), X.dtype)\n",
    "# なんで128より大きい要素の箇所のdtypeを再度floatにしているのだろうか\n",
    "\n",
    "x_train, x_test, y_train, y_test = train_test_split(X, y, test_size=0.1)\n",
    "\n",
    "binarizer = LabelBinarizer()\n",
    "label_train = binarizer.fit_transform(y_train)\n",
    "label_test = binarizer.transform(y_test)\n",
    "\n",
    "# Training data size.\n",
    "N = len(x_train)"
   ]
  },
  {
   "cell_type": "code",
   "execution_count": 3,
   "metadata": {},
   "outputs": [],
   "source": [
    "model_ae = rm.Sequential([\n",
    "    # 隠れ層が100\n",
    "        rm.Dense(100),\n",
    "        rm.Relu(),\n",
    "        rm.Dense(784),\n",
    "    ])\n",
    "optimizer = Adam()"
   ]
  },
  {
   "cell_type": "code",
   "execution_count": 4,
   "metadata": {},
   "outputs": [
    {
     "name": "stdout",
     "output_type": "stream",
     "text": [
      "epoch 00 train_loss:56.329578\n",
      "epoch 02 train_loss:22.987875\n",
      "epoch 04 train_loss:15.974403\n",
      "epoch 06 train_loss:13.387466\n",
      "epoch 08 train_loss:12.086666\n"
     ]
    },
    {
     "data": {
      "image/png": "[encoded data removed]",
      "text/plain": [
       "<Figure size 576x432 with 2 Axes>"
      ]
     },
     "metadata": {},
     "output_type": "display_data"
    }
   ],
   "source": [
    "batch = 64\n",
    "epoch = 10\n",
    "\n",
    "# 学習アルゴリズム\n",
    "# すぐに学習が終わるわけではないので、注意\n",
    "for i in range(epoch):\n",
    "    for j in range(N//batch):\n",
    "        train_batch=x_train[j*batch:(j+1)*batch]\n",
    "        with model_ae.train():\n",
    "            z = model_ae(train_batch)\n",
    "            # 入力データ自身が教師データとなる\n",
    "            loss = rm.sigmoid_cross_entropy(z, train_batch)\n",
    "        loss.grad().update(optimizer)\n",
    "    if i%2 == 0:print(\"epoch %02d train_loss:%f\"%(i, loss))\n",
    "\n",
    "# Show raw img and reconstructed img.\n",
    "test_img = x_test[0]\n",
    "fig, ax = plt.subplots(ncols=2, nrows=1, figsize=(8, 6))\n",
    "ax[0].set_title(\"Raw image\")\n",
    "ax[0].imshow(test_img.reshape(28, 28), cmap=\"gray\")\n",
    "ax[1].set_title(\"Reconstructed image\")\n",
    "ax[1].imshow(rm.sigmoid(model_ae(test_img)).reshape(28, 28), cmap=\"gray\")\n",
    "plt.show()"
   ]
  },
  {
   "cell_type": "code",
   "execution_count": 5,
   "metadata": {},
   "outputs": [
    {
     "data": {
      "image/png": "[encoded data removed]",
      "text/plain": [
       "<Figure size 576x432 with 2 Axes>"
      ]
     },
     "metadata": {},
     "output_type": "display_data"
    }
   ],
   "source": [
    "test_img = x_test[0].reshape(28, 28)\n",
    "sp_noise = np.array(np.random.rand(*test_img.shape) > 0.5, dtype=np.bool)\n",
    "fig, ax = plt.subplots(ncols=2, nrows=1, figsize=(8, 6))\n",
    "ax[0].set_title(\"Raw image\")\n",
    "ax[0].imshow(test_img, cmap=\"gray\")\n",
    "ax[1].set_title(\"Added salt and pepper noise\")\n",
    "ax[1].imshow(test_img*sp_noise, cmap=\"gray\")\n",
    "plt.show()"
   ]
  },
  {
   "cell_type": "code",
   "execution_count": 6,
   "metadata": {},
   "outputs": [],
   "source": [
    "model_denoise_ae = rm.Sequential([\n",
    "        rm.Dense(100),\n",
    "        rm.Relu(),\n",
    "        rm.Dense(784),\n",
    "    ])\n",
    "optimizer = Adam()"
   ]
  },
  {
   "cell_type": "code",
   "execution_count": 7,
   "metadata": {},
   "outputs": [
    {
     "name": "stdout",
     "output_type": "stream",
     "text": [
      "epoch 00 train_loss:97.796188\n",
      "epoch 02 train_loss:80.087204\n",
      "epoch 04 train_loss:78.158974\n",
      "epoch 06 train_loss:77.733337\n",
      "epoch 08 train_loss:75.133461\n"
     ]
    },
    {
     "data": {
      "image/png": "[encoded data removed]",
      "text/plain": [
       "<Figure size 576x432 with 2 Axes>"
      ]
     },
     "metadata": {},
     "output_type": "display_data"
    }
   ],
   "source": [
    "batch = 64\n",
    "epoch = 10\n",
    "\n",
    "for i in range(epoch):\n",
    "    for j in range(N//batch):\n",
    "        train_batch=x_train[j*batch:(j+1)*batch]\n",
    "        with model_denoise_ae.train():\n",
    "            sp_noise = np.array(np.random.rand(*train_batch.shape) > 0.5, dtype=np.bool)\n",
    "            z = model_denoise_ae(train_batch*sp_noise)\n",
    "            loss = rm.sigmoid_cross_entropy(z, train_batch)\n",
    "        loss.grad().update(optimizer)\n",
    "    if i%2 == 0:print(\"epoch %02d train_loss:%f\"%(i, loss))\n",
    "\n",
    "# Show raw img and reconstructed img.\n",
    "test_img = x_test[0]\n",
    "fig, ax = plt.subplots(ncols=2, nrows=1, figsize=(8, 6))\n",
    "ax[0].set_title(\"Raw image\")\n",
    "ax[0].imshow(test_img.reshape(28, 28), cmap=\"gray\")\n",
    "ax[1].set_title(\"Reconstructed image\")\n",
    "ax[1].imshow(rm.sigmoid(model_denoise_ae(test_img)).reshape(28, 28), cmap=\"gray\")\n",
    "plt.show()"
   ]
  },
  {
   "cell_type": "code",
   "execution_count": 8,
   "metadata": {},
   "outputs": [],
   "source": [
    "pretrained_ae = rm.Sequential([\n",
    "        rm.Dense(100),\n",
    "        rm.Relu(),\n",
    "        rm.Dense(10),\n",
    "    ])\n",
    "\n",
    "pretrained_dae = rm.Sequential([\n",
    "        rm.Dense(100),\n",
    "        rm.Relu(),\n",
    "        rm.Dense(10),\n",
    "    ])\n",
    "\n",
    "# Copy first weight parameters of first layer.\n",
    "pretrained_ae[0].params = model_ae[0].params\n",
    "pretrained_dae[0].params = model_denoise_ae[0].params\n",
    "\n",
    "opt1 = Adam()\n",
    "opt2 = Adam()"
   ]
  },
  {
   "cell_type": "code",
   "execution_count": 9,
   "metadata": {},
   "outputs": [
    {
     "name": "stdout",
     "output_type": "stream",
     "text": [
      "epoch:00 AE_loss:0.485604 AE_validation:0.635617 DAE_loss:0.438169 DAE_validation:0.379542\n",
      "epoch:02 AE_loss:0.530185 AE_validation:0.529334 DAE_loss:0.335483 DAE_validation:0.247551\n",
      "epoch:04 AE_loss:0.455819 AE_validation:0.444238 DAE_loss:0.192421 DAE_validation:0.189655\n",
      "epoch:06 AE_loss:0.390115 AE_validation:0.342228 DAE_loss:0.185706 DAE_validation:0.157240\n",
      "epoch:08 AE_loss:0.248716 AE_validation:0.285394 DAE_loss:0.103996 DAE_validation:0.146243\n",
      "epoch:10 AE_loss:0.179528 AE_validation:0.240836 DAE_loss:0.109551 DAE_validation:0.131118\n",
      "epoch:12 AE_loss:0.209705 AE_validation:0.206911 DAE_loss:0.151680 DAE_validation:0.121289\n",
      "epoch:14 AE_loss:0.207613 AE_validation:0.182837 DAE_loss:0.159630 DAE_validation:0.115170\n",
      "epoch:16 AE_loss:0.298366 AE_validation:0.171296 DAE_loss:0.227792 DAE_validation:0.112202\n",
      "epoch:18 AE_loss:0.122866 AE_validation:0.158984 DAE_loss:0.099367 DAE_validation:0.108726\n",
      "epoch:20 AE_loss:0.173296 AE_validation:0.155035 DAE_loss:0.148734 DAE_validation:0.111612\n",
      "epoch:22 AE_loss:0.256627 AE_validation:0.141912 DAE_loss:0.166852 DAE_validation:0.109853\n",
      "epoch:24 AE_loss:0.100517 AE_validation:0.136408 DAE_loss:0.160223 DAE_validation:0.104631\n",
      "epoch:26 AE_loss:0.250501 AE_validation:0.129328 DAE_loss:0.196484 DAE_validation:0.105829\n",
      "epoch:28 AE_loss:0.102510 AE_validation:0.129835 DAE_loss:0.111107 DAE_validation:0.105791\n",
      "epoch:30 AE_loss:0.103466 AE_validation:0.123081 DAE_loss:0.156916 DAE_validation:0.103389\n",
      "epoch:32 AE_loss:0.194752 AE_validation:0.124939 DAE_loss:0.075716 DAE_validation:0.107197\n",
      "epoch:34 AE_loss:0.111478 AE_validation:0.117801 DAE_loss:0.102287 DAE_validation:0.106627\n",
      "epoch:36 AE_loss:0.108368 AE_validation:0.125220 DAE_loss:0.069251 DAE_validation:0.107095\n",
      "epoch:38 AE_loss:0.126837 AE_validation:0.123246 DAE_loss:0.128945 DAE_validation:0.108178\n"
     ]
    }
   ],
   "source": [
    "batch = 64\n",
    "epoch = 100\n",
    "\n",
    "train_loss1 = []\n",
    "train_loss2 = []\n",
    "validation_loss1 = []\n",
    "validation_loss2 = []\n",
    "\n",
    "for i in range(epoch):\n",
    "    for j in range(N//batch):\n",
    "        train_batch = x_train[j*batch:(j+1)*batch]\n",
    "        response_batch = label_train[j*batch:(j+1)*batch].astype(np.float32)\n",
    "        sp_noise = np.array(np.random.rand(*train_batch.shape) > 0.5)\n",
    "        train_batch = train_batch*sp_noise\n",
    "\n",
    "        with pretrained_ae.train():\n",
    "            z = pretrained_ae(train_batch)\n",
    "            loss1 = rm.softmax_cross_entropy(z, response_batch)\n",
    "\n",
    "        with pretrained_dae.train():\n",
    "            z = pretrained_dae(train_batch)\n",
    "            loss2 = rm.softmax_cross_entropy(z, response_batch)\n",
    "\n",
    "        loss1.grad().update(opt1)\n",
    "        loss2.grad().update(opt2)\n",
    "\n",
    "    validation1 = rm.softmax_cross_entropy(pretrained_ae(x_test), label_test)\n",
    "    validation2 = rm.softmax_cross_entropy(pretrained_dae(x_test), label_test)\n",
    "\n",
    "    train_loss1.append(loss1)\n",
    "    train_loss2.append(loss2)\n",
    "    validation_loss1.append(validation1)\n",
    "    validation_loss2.append(validation2)\n",
    "\n",
    "    strs = \"epoch:%02d AE_loss:%f AE_validation:%f DAE_loss:%f DAE_validation:%f\"\n",
    "    if i%2 == 0:print(strs%(i, loss1, validation1, loss2, validation2))"
   ]
  },
  {
   "cell_type": "code",
   "execution_count": 10,
   "metadata": {},
   "outputs": [
    {
     "data": {
      "image/png": "[encoded data removed]",
      "text/plain": [
       "<Figure size 576x360 with 1 Axes>"
      ]
     },
     "metadata": {},
     "output_type": "display_data"
    }
   ],
   "source": [
    "plt.figure(figsize=(8, 5))\n",
    "plt.grid()\n",
    "plt.plot(train_loss1, label=\"AE_train_loss\", linestyle=\"--\", linewidth=3)\n",
    "plt.plot(validation_loss1, label=\"AE_validation_loss\", linewidth=3)\n",
    "plt.plot(train_loss2, label=\"DAE_train_loss\", linestyle=\"--\", linewidth=3)\n",
    "plt.plot(validation_loss2, label=\"DAE_validation_loss\", linewidth=3)\n",
    "plt.ylabel(\"loss\")\n",
    "plt.xlabel(\"epoch\")\n",
    "plt.legend()\n",
    "plt.show()"
   ]
  },
  {
   "cell_type": "code",
   "execution_count": 11,
   "metadata": {},
   "outputs": [
    {
     "name": "stdout",
     "output_type": "stream",
     "text": [
      "///////////// AE pretrained model //////////////\n",
      "             precision    recall  f1-score   support\n",
      "\n",
      "          0       0.97      0.99      0.98       725\n",
      "          1       0.98      0.99      0.99       804\n",
      "          2       0.98      0.97      0.98       683\n",
      "          3       0.97      0.95      0.96       710\n",
      "          4       0.98      0.98      0.98       680\n",
      "          5       0.97      0.97      0.97       604\n",
      "          6       0.98      0.99      0.99       697\n",
      "          7       0.97      0.97      0.97       708\n",
      "          8       0.97      0.96      0.96       683\n",
      "          9       0.95      0.95      0.95       706\n",
      "\n",
      "avg / total       0.97      0.97      0.97      7000\n",
      "\n",
      "///////////// DAE pretrained model //////////////\n",
      "             precision    recall  f1-score   support\n",
      "\n",
      "          0       0.98      0.99      0.99       725\n",
      "          1       0.98      0.99      0.99       804\n",
      "          2       0.97      0.98      0.97       683\n",
      "          3       0.97      0.95      0.96       710\n",
      "          4       0.99      0.97      0.98       680\n",
      "          5       0.97      0.97      0.97       604\n",
      "          6       0.98      1.00      0.99       697\n",
      "          7       0.98      0.96      0.97       708\n",
      "          8       0.97      0.95      0.96       683\n",
      "          9       0.95      0.96      0.96       706\n",
      "\n",
      "avg / total       0.97      0.97      0.97      7000\n",
      "\n"
     ]
    }
   ],
   "source": [
    "prediction1 = np.argmax(pretrained_ae(x_test).as_ndarray(), axis = 1)\n",
    "prediction2 = np.argmax(pretrained_dae(x_test).as_ndarray(), axis = 1)\n",
    "\n",
    "print(\"///////////// AE pretrained model //////////////\")\n",
    "print(classification_report(np.argmax(label_test, axis = 1), prediction1))\n",
    "\n",
    "print(\"///////////// DAE pretrained model //////////////\")\n",
    "print(classification_report(np.argmax(label_test, axis = 1), prediction2))"
   ]
  },
  {
   "cell_type": "markdown",
   "metadata": {},
   "source": [
    "https://elix-tech.github.io/ja/2016/07/17/autoencoder.html"
   ]
  },
  {
   "cell_type": "code",
   "execution_count": 12,
   "metadata": {},
   "outputs": [
    {
     "name": "stderr",
     "output_type": "stream",
     "text": [
      "/usr/local/lib/python3.6/site-packages/h5py/__init__.py:36: FutureWarning: Conversion of the second argument of issubdtype from `float` to `np.floating` is deprecated. In future, it will be treated as `np.float64 == np.dtype(float).type`.\n",
      "  from ._conv import register_converters as _register_converters\n",
      "Using TensorFlow backend.\n",
      "/usr/local/lib/python3.6/site-packages/ipykernel_launcher.py:10: UserWarning: Update your `Model` call to the Keras 2 API: `Model(inputs=Tensor(\"in..., outputs=Tensor(\"de...)`\n",
      "  # Remove the CWD from sys.path while we load stuff.\n"
     ]
    }
   ],
   "source": [
    "from keras.layers import Input, Dense\n",
    "from keras.models import Model\n",
    "from keras.datasets import mnist\n",
    "import numpy as np\n",
    "\n",
    "encoding_dim = 32\n",
    "input_img = Input(shape=(784,))\n",
    "encoded = Dense(encoding_dim, activation='relu')(input_img)\n",
    "decoded = Dense(784, activation='sigmoid')(encoded)\n",
    "autoencoder = Model(input=input_img, output=decoded)\n",
    "\n",
    "autoencoder.compile(optimizer='adadelta', loss='binary_crossentropy')"
   ]
  },
  {
   "cell_type": "code",
   "execution_count": null,
   "metadata": {},
   "outputs": [],
   "source": []
  },
  {
   "cell_type": "code",
   "execution_count": null,
   "metadata": {},
   "outputs": [],
   "source": []
  }
 ],
 "metadata": {
  "kernelspec": {
   "display_name": "Python 3",
   "language": "python",
   "name": "python3"
  },
  "language_info": {
   "codemirror_mode": {
    "name": "ipython",
    "version": 3
   },
   "file_extension": ".py",
   "mimetype": "text/x-python",
   "name": "python",
   "nbconvert_exporter": "python",
   "pygments_lexer": "ipython3",
   "version": "3.6.5"
  }
 },
 "nbformat": 4,
 "nbformat_minor": 2
}
