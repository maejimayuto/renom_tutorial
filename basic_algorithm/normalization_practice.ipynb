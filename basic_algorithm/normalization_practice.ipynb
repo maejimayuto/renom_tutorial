{
 "cells": [
  {
   "cell_type": "code",
   "execution_count": 19,
   "metadata": {},
   "outputs": [],
   "source": [
    "from __future__ import division, print_function\n",
    "import numpy as np\n",
    "import pandas as pd\n",
    "\n",
    "import renom as rm\n",
    "from renom.optimizer import Sgd, Adam\n",
    "from renom.cuda import set_cuda_active\n",
    "from sklearn.preprocessing import LabelBinarizer, label_binarize\n",
    "from sklearn.metrics import confusion_matrix, classification_report\n",
    "from sklearn.model_selection import train_test_split\n",
    "import matplotlib.pyplot as plt\n",
    "# If you would like to use GPU computing, set this to True. Otherwise, False.\n",
    "set_cuda_active(False)\n",
    "import time"
   ]
  },
  {
   "cell_type": "code",
   "execution_count": 20,
   "metadata": {},
   "outputs": [
    {
     "name": "stdout",
     "output_type": "stream",
     "text": [
      "X:(19020, 10) y:(19020, 1)\n"
     ]
    }
   ],
   "source": [
    "df = pd.read_csv(\"magic04.data\",header=None)\n",
    "X = df.drop(10,axis=1).values.astype(float)\n",
    "y = df.iloc[:,10].replace(\"g\",1).replace(\"h\",0).values.astype(float).reshape(-1,1)\n",
    "print(\"X:{} y:{}\".format(X.shape, y.shape))"
   ]
  },
  {
   "cell_type": "code",
   "execution_count": 21,
   "metadata": {},
   "outputs": [
    {
     "name": "stdout",
     "output_type": "stream",
     "text": [
      "X_train:(15216, 10) y_train:(15216, 1) X_test:(3804, 10) y_test:(3804, 1)\n"
     ]
    }
   ],
   "source": [
    "X_train, X_test, y_train, y_test = train_test_split(X,y,test_size=0.2)\n",
    "print(\"X_train:{} y_train:{} X_test:{} y_test:{}\".format(X_train.shape, y_train.shape, X_test.shape, y_test.shape))"
   ]
  },
  {
   "cell_type": "code",
   "execution_count": 22,
   "metadata": {},
   "outputs": [],
   "source": [
    "sequential = rm.Sequential([\n",
    "    rm.Dense(64),\n",
    "    rm.Relu(),\n",
    "    rm.Dense(32),\n",
    "    rm.Relu(),\n",
    "    rm.Dense(1)\n",
    "])"
   ]
  },
  {
   "cell_type": "code",
   "execution_count": 23,
   "metadata": {},
   "outputs": [
    {
     "name": "stdout",
     "output_type": "stream",
     "text": [
      "epoch:000, train_loss:0.7504, test_loss:0.4961\n",
      "epoch:001, train_loss:0.5017, test_loss:0.4992\n",
      "epoch:002, train_loss:0.4868, test_loss:0.4647\n",
      "epoch:003, train_loss:0.4763, test_loss:0.4622\n",
      "epoch:004, train_loss:0.4719, test_loss:0.4480\n",
      "epoch:005, train_loss:0.4610, test_loss:0.4508\n",
      "epoch:006, train_loss:0.4568, test_loss:0.4445\n",
      "epoch:007, train_loss:0.4513, test_loss:0.4453\n",
      "epoch:008, train_loss:0.4468, test_loss:0.4455\n",
      "epoch:009, train_loss:0.4430, test_loss:0.4385\n",
      "epoch:010, train_loss:0.4404, test_loss:0.4402\n",
      "epoch:011, train_loss:0.4374, test_loss:0.4317\n",
      "epoch:012, train_loss:0.4315, test_loss:0.4238\n",
      "epoch:013, train_loss:0.4323, test_loss:0.4551\n",
      "epoch:014, train_loss:0.4320, test_loss:0.4229\n",
      "経過時間：4.071779727935791秒\n"
     ]
    }
   ],
   "source": [
    "# 処理前の時刻\n",
    "t1 = time.time()\n",
    "\n",
    "batch_size = 128\n",
    "epoch = 15\n",
    "N = len(X_train)\n",
    "optimizer = Sgd(lr=0.01)\n",
    "learning_curve = []\n",
    "test_learning_curve = []\n",
    "\n",
    "for i in range(epoch):\n",
    "    perm = np.random.permutation(N)\n",
    "    loss = 0\n",
    "    for j in range(0, N // batch_size):\n",
    "        train_batch = X_train[perm[j*batch_size : (j+1)*batch_size]]\n",
    "        response_batch = y_train[perm[j*batch_size : (j+1)*batch_size]]\n",
    "\n",
    "        with sequential.train():\n",
    "            z = sequential(train_batch)\n",
    "            l = rm.sigmoid_cross_entropy(z, response_batch)\n",
    "        grad = l.grad()\n",
    "        grad.update(optimizer)\n",
    "        loss += l.as_ndarray()\n",
    "    train_loss = loss / (N // batch_size)\n",
    "    z_test = sequential(X_test)\n",
    "    test_loss = rm.sigmoid_cross_entropy(z_test, y_test).as_ndarray()\n",
    "    test_learning_curve.append(test_loss)\n",
    "    learning_curve.append(train_loss)\n",
    "    print(\"epoch:{:03d}, train_loss:{:.4f}, test_loss:{:.4f}\".format(i, float(train_loss), float(test_loss)))\n",
    "    \n",
    "# 処理後の時刻\n",
    "t2 = time.time()\n",
    "\n",
    "# 経過時間を表示\n",
    "elapsed_time = t2-t1\n",
    "print(f\"経過時間：{elapsed_time}秒\")"
   ]
  },
  {
   "cell_type": "code",
   "execution_count": 24,
   "metadata": {},
   "outputs": [
    {
     "name": "stdout",
     "output_type": "stream",
     "text": [
      "[[-0.74710136 -0.52932336 -1.20596564 ... -0.50646597  0.69251537\n",
      "  -1.95568948]\n",
      " [ 0.9991364  -0.31309099  0.44543638 ...  0.68939378 -0.10661011\n",
      "   1.73173909]\n",
      " [ 0.13246898 -0.18227832  0.75382184 ... -0.67538528 -0.85123723\n",
      "   0.09165309]\n",
      " ...\n",
      " [-0.11332831 -0.3668351  -0.65205305 ... -0.35839415 -0.63669254\n",
      "  -0.5126275 ]\n",
      " [-0.82631381 -0.80144743 -1.40086863 ...  0.12600395 -0.40679124\n",
      "  -0.47303795]\n",
      " [-0.64989253 -0.6324131  -0.99967223 ... -0.38329533  0.55874598\n",
      "   0.42216589]]\n"
     ]
    }
   ],
   "source": [
    "X_train_mean = np.mean(X_train,axis=0)\n",
    "X_train_std = np.std(X_train, axis=0)\n",
    "X_train = (X_train - X_train_mean) / X_train_std\n",
    "\n",
    "X_test = (X_test - X_train_mean) / X_train_std\n",
    "print(X_train)"
   ]
  },
  {
   "cell_type": "code",
   "execution_count": 25,
   "metadata": {},
   "outputs": [],
   "source": [
    "sequential = rm.Sequential([\n",
    "    rm.Dense(64),\n",
    "    rm.Relu(),\n",
    "    rm.Dense(32),\n",
    "    rm.Relu(),\n",
    "    rm.Dense(1)\n",
    "])"
   ]
  },
  {
   "cell_type": "code",
   "execution_count": 26,
   "metadata": {},
   "outputs": [
    {
     "name": "stdout",
     "output_type": "stream",
     "text": [
      "epoch:000, train_loss:0.6639, test_loss:0.6108\n",
      "epoch:001, train_loss:0.5861, test_loss:0.5495\n",
      "epoch:002, train_loss:0.5282, test_loss:0.4940\n",
      "epoch:003, train_loss:0.4823, test_loss:0.4547\n",
      "epoch:004, train_loss:0.4529, test_loss:0.4308\n",
      "epoch:005, train_loss:0.4351, test_loss:0.4157\n",
      "epoch:006, train_loss:0.4233, test_loss:0.4049\n",
      "epoch:007, train_loss:0.4148, test_loss:0.3973\n",
      "epoch:008, train_loss:0.4077, test_loss:0.3909\n",
      "epoch:009, train_loss:0.4017, test_loss:0.3846\n",
      "epoch:010, train_loss:0.3958, test_loss:0.3798\n",
      "epoch:011, train_loss:0.3930, test_loss:0.3750\n",
      "epoch:012, train_loss:0.3882, test_loss:0.3710\n",
      "epoch:013, train_loss:0.3852, test_loss:0.3673\n",
      "epoch:014, train_loss:0.3816, test_loss:0.3641\n",
      "経過時間：5.22182297706604秒\n"
     ]
    }
   ],
   "source": [
    "# 処理前の時刻\n",
    "t3 = time.time()\n",
    "\n",
    "batch_size = 128\n",
    "epoch = 15\n",
    "N = len(X_train)\n",
    "optimizer = Sgd(lr=0.01)\n",
    "learning_curve = []\n",
    "test_learning_curve = []\n",
    "\n",
    "for i in range(epoch):\n",
    "    perm = np.random.permutation(N)\n",
    "    loss = 0\n",
    "    for j in range(0, N // batch_size):\n",
    "        train_batch = X_train[perm[j*batch_size : (j+1)*batch_size]]\n",
    "        response_batch = y_train[perm[j*batch_size : (j+1)*batch_size]]\n",
    "\n",
    "        with sequential.train():\n",
    "            z = sequential(train_batch)\n",
    "            l = rm.sigmoid_cross_entropy(z, response_batch)\n",
    "        grad = l.grad()\n",
    "        grad.update(optimizer)\n",
    "        loss += l.as_ndarray()\n",
    "    train_loss = loss / (N // batch_size)\n",
    "    z_test = sequential(X_test)\n",
    "    test_loss = rm.sigmoid_cross_entropy(z_test, y_test).as_ndarray()\n",
    "    test_learning_curve.append(test_loss)\n",
    "    learning_curve.append(train_loss)\n",
    "    print(\"epoch:{:03d}, train_loss:{:.4f}, test_loss:{:.4f}\".format(i, float(train_loss), float(test_loss)))\n",
    "\n",
    "# 処理後の時刻\n",
    "t4 = time.time()\n",
    "\n",
    "# 経過時間を表示\n",
    "elapsed_time2 = t4 - t3\n",
    "print(f\"経過時間：{elapsed_time2}秒\")"
   ]
  }
 ],
 "metadata": {
  "kernelspec": {
   "display_name": "Python 3",
   "language": "python",
   "name": "python3"
  },
  "language_info": {
   "codemirror_mode": {
    "name": "ipython",
    "version": 3
   },
   "file_extension": ".py",
   "mimetype": "text/x-python",
   "name": "python",
   "nbconvert_exporter": "python",
   "pygments_lexer": "ipython3",
   "version": "3.6.5"
  }
 },
 "nbformat": 4,
 "nbformat_minor": 2
}
