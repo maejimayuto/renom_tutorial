{
 "cells": [
  {
   "cell_type": "code",
   "execution_count": 1,
   "metadata": {},
   "outputs": [],
   "source": [
    "from __future__ import division, print_function\n",
    "import matplotlib.pyplot as plt\n",
    "import numpy as np\n",
    "\n",
    "from sklearn.datasets import fetch_mldata\n",
    "from sklearn.model_selection import train_test_split\n",
    "from sklearn.preprocessing import LabelBinarizer\n",
    "from sklearn.metrics import confusion_matrix, classification_report\n",
    "\n",
    "import renom as rm\n",
    "from renom.optimizer import Sgd"
   ]
  },
  {
   "cell_type": "code",
   "execution_count": 2,
   "metadata": {},
   "outputs": [],
   "source": [
    "# Datapath must point to the directory containing the mldata folder.\n",
    "data_path = \"../dataset\"\n",
    "mnist = fetch_mldata('MNIST original', data_home=data_path)\n",
    "\n",
    "X = mnist.data\n",
    "y = mnist.target\n",
    "\n",
    "# Rescale the image data to 0 ~ 1.\n",
    "# 画像を 0-1 の間にスケーリングする\n",
    "X = X.astype(np.float32)\n",
    "X /= X.max()        # X = X / 255\n",
    "\n",
    "# ラベルを one-hot 表現に変換する\n",
    "X_train, X_test, y_train, y_test = train_test_split(X, y, test_size=0.1)\n",
    "labels_train = LabelBinarizer().fit_transform(y_train).astype(np.float32)\n",
    "labels_test = LabelBinarizer().fit_transform(y_test).astype(np.float32)\n",
    "\n",
    "# Training data size.\n",
    "N = len(X_train)"
   ]
  },
  {
   "cell_type": "code",
   "execution_count": 3,
   "metadata": {},
   "outputs": [],
   "source": [
    "class Mnist(rm.Model):\n",
    "\n",
    "    def __init__(self):\n",
    "        super(Mnist, self).__init__()\n",
    "        self._layer1 = rm.Dense(100)\n",
    "        self._layer2 = rm.Dense(10)\n",
    "\n",
    "    def forward(self, x):\n",
    "        out = self._layer2(rm.relu(self._layer1(x)))\n",
    "        return out\n",
    "\n",
    "    # 今回のカギとなる重みの正則化、weight_decay\n",
    "    def weight_decay(self):\n",
    "#         print(\"self._layer1.params.w: \", self._layer1.params.w.shape)\n",
    "#         print(\"type(self._layer1.params.w): \", type(self._layer1.params.w.shape))\n",
    "        weight_decay = rm.sum(self._layer1.params.w**2) + rm.sum(self._layer2.params.w**2)\n",
    "#         print(\"weight_decay: \", weight_decay.shape)\n",
    "#         print(\"type(weight_decay): \", type(weight_decay.shape)) \n",
    "#         print(weight_decay)\n",
    "        return weight_decay"
   ]
  },
  {
   "cell_type": "code",
   "execution_count": 4,
   "metadata": {},
   "outputs": [],
   "source": [
    "# Choose neural network.\n",
    "network = Mnist()"
   ]
  },
  {
   "cell_type": "code",
   "execution_count": 5,
   "metadata": {
    "scrolled": true
   },
   "outputs": [
    {
     "ename": "IndentationError",
     "evalue": "expected an indented block (<ipython-input-5-120cd8a3ea78>, line 24)",
     "output_type": "error",
     "traceback": [
      "\u001b[0;36m  File \u001b[0;32m\"<ipython-input-5-120cd8a3ea78>\"\u001b[0;36m, line \u001b[0;32m24\u001b[0m\n\u001b[0;31m    grad = l.grad()\u001b[0m\n\u001b[0m    ^\u001b[0m\n\u001b[0;31mIndentationError\u001b[0m\u001b[0;31m:\u001b[0m expected an indented block\n"
     ]
    }
   ],
   "source": [
    "# Hyper parameters\n",
    "batch = 64\n",
    "epoch = 10\n",
    "\n",
    "optimizer = Sgd(lr = 0.1)\n",
    "\n",
    "learning_curve = []\n",
    "test_learning_curve = []\n",
    "\n",
    "for i in range(epoch):\n",
    "    perm = np.random.permutation(N)\n",
    "    loss = 0\n",
    "    for j in range(0, N // batch):\n",
    "        train_batch = X_train[perm[j * batch:(j + 1) * batch]]\n",
    "        responce_batch = labels_train[perm[j * batch:(j + 1) * batch]]\n",
    "\n",
    "        # The computational graph is only generated for this block:\n",
    "        with network.train():\n",
    "            l = rm.softmax_cross_entropy(network(train_batch), responce_batch)\n",
    "            if hasattr(network, \"weight_decay\"):\n",
    "#                 l += 0.0001 * network.weight_decay()\n",
    "\n",
    "        # Back propagation\n",
    "        grad = l.grad()\n",
    "\n",
    "        # Update\n",
    "        grad.update(optimizer)\n",
    "\n",
    "        # Changing type to ndarray is recommended.\n",
    "        loss += l.as_ndarray()\n",
    "\n",
    "    train_loss = loss / (N // batch)\n",
    "\n",
    "    # Validation\n",
    "    test_loss = rm.softmax_cross_entropy(network(X_test), labels_test).as_ndarray()\n",
    "    test_learning_curve.append(test_loss)\n",
    "    learning_curve.append(train_loss)\n",
    "    print(\"epoch %03d train_loss:%f test_loss:%f\"%(i, train_loss, test_loss))"
   ]
  },
  {
   "cell_type": "code",
   "execution_count": null,
   "metadata": {},
   "outputs": [],
   "source": [
    "predictions = np.argmax(network(X_test).as_ndarray(), axis=1)\n",
    "\n",
    "# Confusion matrix and classification report.\n",
    "print(confusion_matrix(y_test, predictions))\n",
    "print(classification_report(y_test, predictions))\n",
    "\n",
    "# Learning curve.\n",
    "plt.plot(learning_curve, linewidth=3, label=\"train\")\n",
    "plt.plot(test_learning_curve, linewidth=3, label=\"test\")\n",
    "plt.title(\"Learning curve\")\n",
    "plt.ylabel(\"error\")\n",
    "plt.xlabel(\"epoch\")\n",
    "plt.legend()\n",
    "plt.grid()\n",
    "plt.show()"
   ]
  },
  {
   "cell_type": "code",
   "execution_count": null,
   "metadata": {},
   "outputs": [],
   "source": []
  }
 ],
 "metadata": {
  "kernelspec": {
   "display_name": "Python 3",
   "language": "python",
   "name": "python3"
  },
  "language_info": {
   "codemirror_mode": {
    "name": "ipython",
    "version": 3
   },
   "file_extension": ".py",
   "mimetype": "text/x-python",
   "name": "python",
   "nbconvert_exporter": "python",
   "pygments_lexer": "ipython3",
   "version": "3.6.5"
  }
 },
 "nbformat": 4,
 "nbformat_minor": 2
}
