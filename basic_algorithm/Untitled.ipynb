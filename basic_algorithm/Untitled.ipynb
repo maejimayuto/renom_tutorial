{
 "cells": [
  {
   "cell_type": "code",
   "execution_count": 1,
   "metadata": {},
   "outputs": [],
   "source": [
    "from __future__ import division, print_function\n",
    "import matplotlib.pyplot as plt\n",
    "import numpy as np\n",
    "\n",
    "from sklearn.datasets import fetch_mldata\n",
    "from sklearn.model_selection import train_test_split\n",
    "from sklearn.preprocessing import LabelBinarizer\n",
    "from sklearn.metrics import confusion_matrix, classification_report\n",
    "\n",
    "import renom as rm\n",
    "from renom.optimizer import Sgd"
   ]
  },
  {
   "cell_type": "code",
   "execution_count": 3,
   "metadata": {},
   "outputs": [],
   "source": [
    "# Datapath must point to the directory containing the mldata folder.\n",
    "# data_path = \".\" # これではエラーになる（今までとデータの配置を変える必要がある f）\n",
    "data_path = \"../dataset\"\n",
    "mnist = fetch_mldata('MNIST original', data_home=data_path)\n",
    "\n",
    "X = mnist.data\n",
    "y = mnist.target\n",
    "\n",
    "# Rescale the image data to 0 ~ 1.\n",
    "X = X.astype(np.float32)\n",
    "X /= X.max()\n",
    "\n",
    "X_train, X_test, y_train, y_test = train_test_split(X, y, test_size=0.1)\n",
    "labels_train = LabelBinarizer().fit_transform(y_train).astype(np.float32)\n",
    "labels_test = LabelBinarizer().fit_transform(y_test).astype(np.float32)\n",
    "\n",
    "# Training data size.\n",
    "N = len(X_train)"
   ]
  },
  {
   "cell_type": "code",
   "execution_count": 5,
   "metadata": {},
   "outputs": [],
   "source": [
    "class Mnist(rm.Model):\n",
    "\n",
    "    def __init__(self):\n",
    "        super(Mnist, self).__init__()\n",
    "        self._layer1 = rm.Dense(100)\n",
    "        self._layer2 = rm.Dense(10)\n",
    "        self._dropout1 = rm.Dropout(dropout_ratio=0.5)\n",
    "\n",
    "    # 今回のカギとなる Dropout\n",
    "    def forward(self, x):\n",
    "        t1 = self._dropout1(self._layer1(x))\n",
    "        out = self._layer2(t1)\n",
    "        return out"
   ]
  },
  {
   "cell_type": "code",
   "execution_count": 6,
   "metadata": {},
   "outputs": [],
   "source": [
    "network = Mnist()"
   ]
  },
  {
   "cell_type": "code",
   "execution_count": 7,
   "metadata": {},
   "outputs": [
    {
     "name": "stdout",
     "output_type": "stream",
     "text": [
      "epoch 000 train_loss:0.709456 test_loss:0.481503\n",
      "epoch 002 train_loss:0.403953 test_loss:0.391178\n",
      "epoch 004 train_loss:0.371083 test_loss:0.372594\n",
      "epoch 006 train_loss:0.354875 test_loss:0.358276\n",
      "epoch 008 train_loss:0.342484 test_loss:0.353618\n",
      "epoch 010 train_loss:0.336847 test_loss:0.336075\n",
      "epoch 012 train_loss:0.331219 test_loss:0.345314\n",
      "epoch 014 train_loss:0.329092 test_loss:0.343383\n",
      "epoch 016 train_loss:0.321310 test_loss:0.335607\n",
      "epoch 018 train_loss:0.318786 test_loss:0.330723\n",
      "epoch 020 train_loss:0.316581 test_loss:0.331686\n",
      "epoch 022 train_loss:0.312764 test_loss:0.325137\n",
      "epoch 024 train_loss:0.308924 test_loss:0.318669\n",
      "epoch 026 train_loss:0.306471 test_loss:0.323570\n",
      "epoch 028 train_loss:0.306508 test_loss:0.325491\n",
      "epoch 030 train_loss:0.306224 test_loss:0.316099\n",
      "epoch 032 train_loss:0.303762 test_loss:0.327663\n",
      "epoch 034 train_loss:0.302485 test_loss:0.326896\n",
      "epoch 036 train_loss:0.298365 test_loss:0.320815\n",
      "epoch 038 train_loss:0.298282 test_loss:0.321783\n",
      "epoch 040 train_loss:0.298575 test_loss:0.320186\n",
      "epoch 042 train_loss:0.294163 test_loss:0.319322\n",
      "epoch 044 train_loss:0.294230 test_loss:0.315872\n",
      "epoch 046 train_loss:0.296231 test_loss:0.315794\n",
      "epoch 048 train_loss:0.293335 test_loss:0.315199\n"
     ]
    }
   ],
   "source": [
    "# Hyper parameters\n",
    "batch = 64\n",
    "epoch = 50\n",
    "\n",
    "optimizer = Sgd(lr = 0.01)\n",
    "\n",
    "learning_curve = []\n",
    "test_learning_curve = []\n",
    "\n",
    "for i in range(epoch):\n",
    "    perm = np.random.permutation(N)\n",
    "    loss = 0\n",
    "    for j in range(0, N // batch):\n",
    "        train_batch = X_train[perm[j * batch:(j + 1) * batch]]\n",
    "        responce_batch = labels_train[perm[j * batch:(j + 1) * batch]]\n",
    "\n",
    "        # The computational graph is only generated for this block:\n",
    "        with network.train():\n",
    "            l = rm.softmax_cross_entropy(network(train_batch), responce_batch)\n",
    "\n",
    "        # Back propagation\n",
    "        grad = l.grad()\n",
    "\n",
    "        # Update\n",
    "        grad.update(optimizer)\n",
    "\n",
    "        # Changing type to ndarray is recommended.\n",
    "        loss += l.as_ndarray()\n",
    "\n",
    "    train_loss = loss / (N // batch)\n",
    "\n",
    "    # Validation\n",
    "    test_loss = rm.softmax_cross_entropy(network(X_test), labels_test).as_ndarray()\n",
    "    test_learning_curve.append(test_loss)\n",
    "    learning_curve.append(train_loss)\n",
    "    if i % 2 == 0:\n",
    "        print(\"epoch %03d train_loss:%f test_loss:%f\"%(i, train_loss, test_loss))"
   ]
  },
  {
   "cell_type": "code",
   "execution_count": 8,
   "metadata": {},
   "outputs": [],
   "source": [
    "network.set_models(inference=True)"
   ]
  },
  {
   "cell_type": "code",
   "execution_count": 9,
   "metadata": {},
   "outputs": [
    {
     "name": "stdout",
     "output_type": "stream",
     "text": [
      "[[642   0   4   7   2   6   5   1   1   1]\n",
      " [  0 703   4   2   1   1   2   0   5   0]\n",
      " [  7   9 637  11  12   3   6   7  15   4]\n",
      " [  1   2  13 644   2  20   3  11  16   7]\n",
      " [  1   2   2   1 661   1   5   2   6  19]\n",
      " [  7   4   3  15   5 554   9   2  24   5]\n",
      " [  0   3   4   0   6   9 674   1   4   0]\n",
      " [  0   3  11   1   6   1   0 703   2  22]\n",
      " [  3  17   9  10   4  19   5   3 609   8]\n",
      " [  4   4   0  11  18   8   1  20  11 641]]\n",
      "             precision    recall  f1-score   support\n",
      "\n",
      "        0.0       0.97      0.96      0.96       669\n",
      "        1.0       0.94      0.98      0.96       718\n",
      "        2.0       0.93      0.90      0.91       711\n",
      "        3.0       0.92      0.90      0.91       719\n",
      "        4.0       0.92      0.94      0.93       700\n",
      "        5.0       0.89      0.88      0.89       628\n",
      "        6.0       0.95      0.96      0.96       701\n",
      "        7.0       0.94      0.94      0.94       749\n",
      "        8.0       0.88      0.89      0.88       687\n",
      "        9.0       0.91      0.89      0.90       718\n",
      "\n",
      "avg / total       0.92      0.92      0.92      7000\n",
      "\n"
     ]
    },
    {
     "data": {
      "image/png": "[encoded data removed]",
      "text/plain": [
       "<Figure size 432x288 with 1 Axes>"
      ]
     },
     "metadata": {},
     "output_type": "display_data"
    }
   ],
   "source": [
    "predictions = np.argmax(network(X_test).as_ndarray(), axis=1)\n",
    "\n",
    "# Confusion matrix and classification report.\n",
    "print(confusion_matrix(y_test, predictions))\n",
    "print(classification_report(y_test, predictions))\n",
    "\n",
    "# Learning curve.\n",
    "plt.plot(learning_curve, linewidth=3, label=\"train\")\n",
    "plt.plot(test_learning_curve, linewidth=3, label=\"test\")\n",
    "plt.title(\"Learning curve\")\n",
    "plt.ylabel(\"error\")\n",
    "plt.xlabel(\"epoch\")\n",
    "plt.legend()\n",
    "plt.grid()\n",
    "plt.show()"
   ]
  },
  {
   "cell_type": "code",
   "execution_count": null,
   "metadata": {},
   "outputs": [],
   "source": []
  }
 ],
 "metadata": {
  "kernelspec": {
   "display_name": "Python 3",
   "language": "python",
   "name": "python3"
  },
  "language_info": {
   "codemirror_mode": {
    "name": "ipython",
    "version": 3
   },
   "file_extension": ".py",
   "mimetype": "text/x-python",
   "name": "python",
   "nbconvert_exporter": "python",
   "pygments_lexer": "ipython3",
   "version": "3.6.5"
  }
 },
 "nbformat": 4,
 "nbformat_minor": 2
}
