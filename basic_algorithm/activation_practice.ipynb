{
 "cells": [
  {
   "cell_type": "code",
   "execution_count": 356,
   "metadata": {},
   "outputs": [],
   "source": [
    "import numpy as np\n",
    "import renom as rm\n",
    "from renom.optimizer import Adam\n",
    "from renom.optimizer import Sgd\n",
    "import matplotlib.pyplot as plt"
   ]
  },
  {
   "cell_type": "code",
   "execution_count": 357,
   "metadata": {},
   "outputs": [],
   "source": [
    "# XOR の入力 X と出力 y を配列で定義\n",
    "X = np.array([[1,1],\n",
    "            [1,0],\n",
    "            [0,1],\n",
    "            [0,0]])\n",
    "\n",
    "y = np.array([[1],\n",
    "             [0],\n",
    "             [0],\n",
    "             [1]])"
   ]
  },
  {
   "cell_type": "code",
   "execution_count": 358,
   "metadata": {},
   "outputs": [],
   "source": [
    "# チュートリアルではクラス名が Mnist になっているので、修正\n",
    "class Xor(rm.Model):\n",
    "    def __init__(self):                         # 入力は2次元\n",
    "        self.layer1 = rm.Dense(output_size=50)   # 隠れ層は5次元\n",
    "        # print(self.layer1._output_size)\n",
    "        self.layer2 = rm.Dense(1)               #  出力は1次元（0, 1 クラス）\n",
    "        # print(self.layer2._output_size)\n",
    "        # Q. rm.Dense(output_size=5) と rm.Dense(5) 同じことだと思うが、書きっぷりが統一されていないだけなのか、別の処理になるのかを教えていただきたいです。\n",
    "\n",
    "    def forward(self, x):                       # 順伝播の定義\n",
    "        t1 = self.layer1(x)                     # 入力 x を隠れ層へ渡す\n",
    "        t2 = rm.relu(t1)                        # 隠れ層の活性化関数はReLU\n",
    "        t3 = self.layer2(t2)                    # 出力層にReLUの出力を渡す\n",
    "        return t3"
   ]
  },
  {
   "cell_type": "code",
   "execution_count": 359,
   "metadata": {},
   "outputs": [
    {
     "data": {
      "image/png": "[encoded data removed]",
      "text/plain": [
       "<Figure size 432x288 with 1 Axes>"
      ]
     },
     "metadata": {},
     "output_type": "display_data"
    }
   ],
   "source": [
    "epoch = 50\n",
    "batch = 1\n",
    "N = len(X) # 4\n",
    "optimizer = Sgd(lr=0.1, momentum=0.4)\n",
    "\n",
    "network = Xor()\n",
    "learning_curve = []\n",
    "\n",
    "for i in range(epoch): # エポック分ループを回す\n",
    "    perm = np.random.permutation(N) # データをランダムに抽出し、学習するために使用\n",
    "#     print(perm)\n",
    "    loss = 0\n",
    "    for j in range(0, N // batch): # ミニバッチ分ループを回す 4回ループ\n",
    "        train_batch = X[perm[j*batch : (j+1)*batch]]\n",
    "        response_batch = y[perm[j*batch : (j+1)*batch]]\n",
    "        with network.train():\n",
    "            result = network(train_batch)\n",
    "            l = rm.sigmoid_cross_entropy(result, response_batch)\n",
    "        grad = l.grad()\n",
    "        grad.update(optimizer)\n",
    "        loss += l\n",
    "        # print(type(loss), loss, type(l), l)\n",
    "    train_loss = loss / (N // batch)\n",
    "    learning_curve.append(train_loss)\n",
    "plt.plot(learning_curve, linewidth=3, label=\"train\")\n",
    "plt.show()"
   ]
  },
  {
   "cell_type": "code",
   "execution_count": 360,
   "metadata": {},
   "outputs": [
    {
     "name": "stdout",
     "output_type": "stream",
     "text": [
      "[0, 0]:[[1.1943575]]\n",
      "[1, 1]:[[2.4807048]]\n",
      "[1, 0]:[[-2.4159863]]\n",
      "[0, 1]:[[-2.6547163]]\n"
     ]
    }
   ],
   "source": [
    "# これはなんの値？？\n",
    "print(\"[0, 0]:{}\".format(network([0,0]).as_ndarray()))\n",
    "print(\"[1, 1]:{}\".format(network([1,1]).as_ndarray()))\n",
    "print(\"[1, 0]:{}\".format(network([1,0]).as_ndarray()))\n",
    "print(\"[0, 1]:{}\".format(network([0,1]).as_ndarray()))"
   ]
  },
  {
   "cell_type": "code",
   "execution_count": null,
   "metadata": {},
   "outputs": [],
   "source": []
  }
 ],
 "metadata": {
  "kernelspec": {
   "display_name": "Python 3",
   "language": "python",
   "name": "python3"
  },
  "language_info": {
   "codemirror_mode": {
    "name": "ipython",
    "version": 3
   },
   "file_extension": ".py",
   "mimetype": "text/x-python",
   "name": "python",
   "nbconvert_exporter": "python",
   "pygments_lexer": "ipython3",
   "version": "3.6.5"
  }
 },
 "nbformat": 4,
 "nbformat_minor": 2
}
