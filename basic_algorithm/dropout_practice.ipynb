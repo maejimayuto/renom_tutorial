{
 "cells": [
  {
   "cell_type": "code",
   "execution_count": 1,
   "metadata": {},
   "outputs": [],
   "source": [
    "from __future__ import division, print_function\n",
    "import matplotlib.pyplot as plt\n",
    "import numpy as np\n",
    "\n",
    "from sklearn.datasets import fetch_mldata\n",
    "from sklearn.model_selection import train_test_split\n",
    "from sklearn.preprocessing import LabelBinarizer\n",
    "from sklearn.metrics import confusion_matrix, classification_report\n",
    "\n",
    "import renom as rm\n",
    "from renom.optimizer import Sgd"
   ]
  },
  {
   "cell_type": "code",
   "execution_count": 2,
   "metadata": {},
   "outputs": [],
   "source": [
    "# Datapath must point to the directory containing the mldata folder.\n",
    "# data_path = \".\" # これではエラーになる（今までとデータの配置を変える必要がある f）\n",
    "data_path = \"../dataset\"\n",
    "mnist = fetch_mldata('MNIST original', data_home=data_path)\n",
    "\n",
    "X = mnist.data\n",
    "y = mnist.target\n",
    "\n",
    "# Rescale the image data to 0 ~ 1.\n",
    "X = X.astype(np.float32)\n",
    "X /= X.max()\n",
    "\n",
    "X_train, X_test, y_train, y_test = train_test_split(X, y, test_size=0.1)\n",
    "labels_train = LabelBinarizer().fit_transform(y_train).astype(np.float32)\n",
    "labels_test = LabelBinarizer().fit_transform(y_test).astype(np.float32)\n",
    "\n",
    "# Training data size.\n",
    "N = len(X_train)"
   ]
  },
  {
   "cell_type": "code",
   "execution_count": 3,
   "metadata": {},
   "outputs": [],
   "source": [
    "class Mnist(rm.Model):\n",
    "\n",
    "    def __init__(self):\n",
    "        super(Mnist, self).__init__()\n",
    "        self._layer1 = rm.Dense(100)\n",
    "        self._layer2 = rm.Dense(10)\n",
    "#         self._dropout1 = rm.Dropout(dropout_ratio=0.5)\n",
    "\n",
    "    # 今回のカギとなる Dropout\n",
    "    def forward(self, x):\n",
    "#         t1 = self._dropout1(self._layer1(x))\n",
    "        t1 = self._layer1(x)\n",
    "        out = self._layer2(t1)\n",
    "        return out"
   ]
  },
  {
   "cell_type": "code",
   "execution_count": 4,
   "metadata": {},
   "outputs": [],
   "source": [
    "network = Mnist()"
   ]
  },
  {
   "cell_type": "code",
   "execution_count": 5,
   "metadata": {},
   "outputs": [
    {
     "name": "stdout",
     "output_type": "stream",
     "text": [
      "epoch 000 train_loss:0.613114 test_loss:0.395304\n",
      "epoch 002 train_loss:0.329354 test_loss:0.324205\n",
      "epoch 004 train_loss:0.303095 test_loss:0.307551\n",
      "epoch 006 train_loss:0.290279 test_loss:0.300460\n",
      "epoch 008 train_loss:0.282259 test_loss:0.296792\n",
      "epoch 010 train_loss:0.276647 test_loss:0.290076\n",
      "epoch 012 train_loss:0.272332 test_loss:0.289817\n",
      "epoch 014 train_loss:0.268500 test_loss:0.288110\n",
      "epoch 016 train_loss:0.265784 test_loss:0.288089\n",
      "epoch 018 train_loss:0.263626 test_loss:0.283075\n",
      "epoch 020 train_loss:0.261100 test_loss:0.281757\n",
      "epoch 022 train_loss:0.259769 test_loss:0.282089\n",
      "epoch 024 train_loss:0.257814 test_loss:0.284443\n",
      "epoch 026 train_loss:0.256623 test_loss:0.280694\n",
      "epoch 028 train_loss:0.255255 test_loss:0.279372\n",
      "epoch 030 train_loss:0.253945 test_loss:0.279496\n",
      "epoch 032 train_loss:0.252702 test_loss:0.284316\n",
      "epoch 034 train_loss:0.251710 test_loss:0.282060\n",
      "epoch 036 train_loss:0.250622 test_loss:0.284134\n",
      "epoch 038 train_loss:0.249942 test_loss:0.280005\n",
      "epoch 040 train_loss:0.248923 test_loss:0.277115\n",
      "epoch 042 train_loss:0.248279 test_loss:0.282926\n",
      "epoch 044 train_loss:0.247447 test_loss:0.278895\n",
      "epoch 046 train_loss:0.246949 test_loss:0.277998\n",
      "epoch 048 train_loss:0.246159 test_loss:0.277156\n"
     ]
    }
   ],
   "source": [
    "# Hyper parameters\n",
    "batch = 64\n",
    "epoch = 50\n",
    "\n",
    "optimizer = Sgd(lr = 0.01)\n",
    "\n",
    "learning_curve = []\n",
    "test_learning_curve = []\n",
    "\n",
    "for i in range(epoch):\n",
    "    perm = np.random.permutation(N)\n",
    "    loss = 0\n",
    "    for j in range(0, N // batch):\n",
    "        train_batch = X_train[perm[j * batch:(j + 1) * batch]]\n",
    "        responce_batch = labels_train[perm[j * batch:(j + 1) * batch]]\n",
    "\n",
    "        # The computational graph is only generated for this block:\n",
    "        with network.train():\n",
    "            l = rm.softmax_cross_entropy(network(train_batch), responce_batch)\n",
    "\n",
    "        # Back propagation\n",
    "        grad = l.grad()\n",
    "\n",
    "        # Update\n",
    "        grad.update(optimizer)\n",
    "\n",
    "        # Changing type to ndarray is recommended.\n",
    "        loss += l.as_ndarray()\n",
    "\n",
    "    train_loss = loss / (N // batch)\n",
    "\n",
    "    # Validation\n",
    "    test_loss = rm.softmax_cross_entropy(network(X_test), labels_test).as_ndarray()\n",
    "    test_learning_curve.append(test_loss)\n",
    "    learning_curve.append(train_loss)\n",
    "    if i % 2 == 0:\n",
    "        print(\"epoch %03d train_loss:%f test_loss:%f\"%(i, train_loss, test_loss))"
   ]
  },
  {
   "cell_type": "code",
   "execution_count": 6,
   "metadata": {},
   "outputs": [],
   "source": [
    "network.set_models(inference=True)"
   ]
  },
  {
   "cell_type": "code",
   "execution_count": 7,
   "metadata": {},
   "outputs": [
    {
     "name": "stdout",
     "output_type": "stream",
     "text": [
      "[[638   0   5   1   3   7   7   2   6   1]\n",
      " [  1 748   2   2   0   5   0   2   4   1]\n",
      " [  5   9 661  11   5   1  10   6   9   1]\n",
      " [  2   1  15 633   0  28   0   5  11   4]\n",
      " [  2   5   6   0 658   1   7   2   5  22]\n",
      " [  6   2   4  29   5 574  12   2   8   7]\n",
      " [  6   3   4   1   2   6 685   1   3   0]\n",
      " [  2   0  12   2   7   1   0 665   1  25]\n",
      " [  4  14  12  16   6  29   8   0 550   7]\n",
      " [  3   4   0  16  11   4   0  18   8 655]]\n",
      "             precision    recall  f1-score   support\n",
      "\n",
      "        0.0       0.95      0.95      0.95       670\n",
      "        1.0       0.95      0.98      0.96       765\n",
      "        2.0       0.92      0.92      0.92       718\n",
      "        3.0       0.89      0.91      0.90       699\n",
      "        4.0       0.94      0.93      0.94       708\n",
      "        5.0       0.88      0.88      0.88       649\n",
      "        6.0       0.94      0.96      0.95       711\n",
      "        7.0       0.95      0.93      0.94       715\n",
      "        8.0       0.91      0.85      0.88       646\n",
      "        9.0       0.91      0.91      0.91       719\n",
      "\n",
      "avg / total       0.92      0.92      0.92      7000\n",
      "\n"
     ]
    },
    {
     "data": {
      "image/png": "[encoded data removed]",
      "text/plain": [
       "<Figure size 432x288 with 1 Axes>"
      ]
     },
     "metadata": {},
     "output_type": "display_data"
    }
   ],
   "source": [
    "predictions = np.argmax(network(X_test).as_ndarray(), axis=1)\n",
    "\n",
    "# Confusion matrix and classification report.\n",
    "print(confusion_matrix(y_test, predictions))\n",
    "print(classification_report(y_test, predictions))\n",
    "\n",
    "# Learning curve.\n",
    "plt.plot(learning_curve, linewidth=3, label=\"train\")\n",
    "plt.plot(test_learning_curve, linewidth=3, label=\"test\")\n",
    "plt.title(\"Learning curve\")\n",
    "plt.ylabel(\"error\")\n",
    "plt.xlabel(\"epoch\")\n",
    "plt.legend()\n",
    "plt.grid()\n",
    "plt.show()"
   ]
  },
  {
   "cell_type": "code",
   "execution_count": null,
   "metadata": {},
   "outputs": [],
   "source": []
  }
 ],
 "metadata": {
  "kernelspec": {
   "display_name": "Python 3",
   "language": "python",
   "name": "python3"
  },
  "language_info": {
   "codemirror_mode": {
    "name": "ipython",
    "version": 3
   },
   "file_extension": ".py",
   "mimetype": "text/x-python",
   "name": "python",
   "nbconvert_exporter": "python",
   "pygments_lexer": "ipython3",
   "version": "3.6.5"
  }
 },
 "nbformat": 4,
 "nbformat_minor": 2
}
