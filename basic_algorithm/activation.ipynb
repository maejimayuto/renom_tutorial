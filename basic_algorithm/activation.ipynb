{
 "cells": [
  {
   "cell_type": "code",
   "execution_count": null,
   "metadata": {},
   "outputs": [],
   "source": [
    "import numpy as np\n",
    "import renom as rm\n",
    "from renom.optimizer import Sgd\n",
    "import matplotlib.pyplot as plt"
   ]
  },
  {
   "cell_type": "code",
   "execution_count": null,
   "metadata": {},
   "outputs": [],
   "source": [
    "X = np.array([[1,1],\n",
    "            [1,0],\n",
    "            [0,1],\n",
    "            [0,0]])\n",
    "\n",
    "y = np.array([[1],\n",
    "             [0],\n",
    "             [0],\n",
    "             [1]])"
   ]
  },
  {
   "cell_type": "code",
   "execution_count": null,
   "metadata": {},
   "outputs": [],
   "source": [
    "class Mnist(rm.Model):\n",
    "    def __init__(self):\n",
    "        self.layer1 = rm.Dense(output_size=5)\n",
    "        self.layer2 = rm.Dense(1)\n",
    "\n",
    "    def forward(self, x):\n",
    "        t1 = self.layer1(x)\n",
    "        t2 = rm.relu(t1)\n",
    "        t3 = self.layer2(t2)\n",
    "        return t3"
   ]
  },
  {
   "cell_type": "code",
   "execution_count": null,
   "metadata": {},
   "outputs": [],
   "source": [
    "epoch = 50\n",
    "batch = 1\n",
    "N = len(X)\n",
    "optimizer = Sgd(lr=0.1, momentum=0.4)\n",
    "\n",
    "network = Mnist()\n",
    "learning_curve = []\n",
    "\n",
    "for i in range(epoch):\n",
    "    perm = np.random.permutation(N)\n",
    "    loss = 0\n",
    "    for j in range(0, N // batch):\n",
    "        train_batch = X[perm[j*batch : (j+1)*batch]]\n",
    "        response_batch = y[perm[j*batch : (j+1)*batch]]\n",
    "        with network.train():\n",
    "            result = network(train_batch)\n",
    "            l = rm.sigmoid_cross_entropy(result, response_batch)\n",
    "        grad = l.grad()\n",
    "        grad.update(optimizer)\n",
    "        loss += l\n",
    "    train_loss = loss / (N // batch)\n",
    "    learning_curve.append(train_loss)\n",
    "plt.plot(learning_curve, linewidth=3, label=\"train\")\n",
    "plt.show()"
   ]
  },
  {
   "cell_type": "code",
   "execution_count": null,
   "metadata": {},
   "outputs": [],
   "source": [
    "print(\"[0, 0]:{}\".format(network([0,0]).as_ndarray()))\n",
    "print(\"[1, 1]:{}\".format(network([1,1]).as_ndarray()))\n",
    "print(\"[1, 0]:{}\".format(network([1,0]).as_ndarray()))\n",
    "print(\"[0, 1]:{}\".format(network([0,1]).as_ndarray()))"
   ]
  }
 ],
 "metadata": {
  "kernelspec": {
   "display_name": "Python 3",
   "language": "python",
   "name": "python3"
  },
  "language_info": {
   "codemirror_mode": {
    "name": "ipython",
    "version": 3
   },
   "file_extension": ".py",
   "mimetype": "text/x-python",
   "name": "python",
   "nbconvert_exporter": "python",
   "pygments_lexer": "ipython3",
   "version": "3.6.5"
  }
 },
 "nbformat": 4,
 "nbformat_minor": 2
}
