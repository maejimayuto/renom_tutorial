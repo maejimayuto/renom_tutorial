{
 "cells": [
  {
   "cell_type": "code",
   "execution_count": 2,
   "metadata": {},
   "outputs": [],
   "source": [
    "import renom as rm\n",
    "from renom.utility.distributor import ImageClassificationDistributor\n",
    "from renom.utility.distributor.imageloader import ImageLoader\n",
    "from renom.utility.image import *\n",
    "from renom.optimizer import Sgd, Adam\n",
    "from renom.cuda.cuda import set_cuda_active\n",
    "import matplotlib.pyplot as plt\n",
    "import numpy as np\n",
    "import math\n",
    "import os\n",
    "\n",
    "from PIL import Image\n",
    "from sklearn.preprocessing import LabelBinarizer\n",
    "from sklearn.metrics import confusion_matrix, classification_report\n",
    "from sklearn.model_selection import train_test_split"
   ]
  },
  {
   "cell_type": "code",
   "execution_count": 3,
   "metadata": {},
   "outputs": [],
   "source": [
    "set_cuda_active(False)"
   ]
  },
  {
   "cell_type": "code",
   "execution_count": 4,
   "metadata": {},
   "outputs": [],
   "source": [
    "def load_for_classification(path):\n",
    "    class_list = [\"Motorbikes\", \"airplanes\"] # データセット内で大文字と小文字が混在しているため、先頭不一致\n",
    "    onehot_vectors = []\n",
    "    for i in range(len(class_list)):\n",
    "        temp = [0] * len(class_list) # [0, 0]\n",
    "        temp[i] = 1\n",
    "        onehot_vectors.append(temp) # Motorbikes: [1, 0], airplanes: [0, 1]\n",
    "    X_list = [] # データセットの画像のパスを格納する配列\n",
    "    y_list = [] # ラベル（one-hot ベクトル）\n",
    "    for classname in class_list:\n",
    "        imglist = os.listdir(path + classname) # class_list の要素と一致するディレクトリ内の画像をリストで取得\n",
    "        for filename in imglist:\n",
    "            filepath = path + classname + \"/\" + filename\n",
    "            X_list.append(filepath)\n",
    "            onehot = onehot_vectors[class_list.index(classname)]\n",
    "            y_list.append(onehot) # 取得した画像データにラベル(one-hot ベクトル)付けをする\n",
    "\n",
    "    return X_list, y_list, class_list"
   ]
  },
  {
   "cell_type": "code",
   "execution_count": 5,
   "metadata": {},
   "outputs": [],
   "source": [
    "path = \"101_ObjectCategories/\"\n",
    "X_list, Y_list, class_list = load_for_classification(path)"
   ]
  },
  {
   "cell_type": "code",
   "execution_count": 6,
   "metadata": {},
   "outputs": [],
   "source": [
    "x_size=32\n",
    "y_size=32\n",
    "channel=3\n",
    "\n",
    "# Load data\n",
    "X_tmp = np.empty((0,x_size*y_size*channel), int) # 0 x 3072(=32*32*3) の配列を生成（各要素の値が初期化されていないため、生成速度が早い）\n",
    "Y_tmp = []\n",
    "for i in range(len(X_list)):\n",
    "    img = Image.open(X_list[i]).convert('RGB') # Python Imaging Library #open()\n",
    "    img = img.resize((x_size,y_size)) # 画像サイズを変換\n",
    "    img = np.asarray(img) # Image クラスのインスタンスを配列に変換\n",
    "    img = img / 255. # 各ピクセルの値を0-1の範囲に収まるようにスケーリング\n",
    "    img = np.array([list(img.flatten())]) # 1次元配列に変換\n",
    "    X_tmp = np.append(X_tmp, img, axis=0) # 追加する配列の形が一致していることを確認しつつ、配列に追加\n",
    "Y_tmp = np.array(Y_list)\n",
    "\n",
    "# Split images\n",
    "test_size = 0.2\n",
    "\n",
    "X_train, X_test, y_train, y_test = train_test_split(X_tmp, Y_tmp, test_size=test_size,random_state=16)\n",
    "\n",
    "# Reshape images and binalize\n",
    "X_train = X_train.reshape(-1, x_size, y_size, channel) # 行列の形を変える\n",
    "X_train = X_train.transpose(0,3,1,2)\n",
    "labels_train = LabelBinarizer().fit_transform(y_train).astype(np.float32)\n",
    "\n",
    "X_test = X_test.reshape(-1, x_size, y_size, channel)\n",
    "X_test = X_test.transpose(0,3,1,2)\n",
    "labels_test = LabelBinarizer().fit_transform(y_test).astype(np.float32)"
   ]
  },
  {
   "cell_type": "code",
   "execution_count": 7,
   "metadata": {},
   "outputs": [],
   "source": [
    "sequential = rm.Sequential([\n",
    "        rm.Conv2d(channel=32), # カーネルを32枚使用する\n",
    "        rm.Relu(),\n",
    "        rm.MaxPool2d(filter=2, stride=2), # プーリング層\n",
    "        rm.Dropout(dropout_ratio=0.25), # Dropout で過学習を抑制\n",
    "        rm.Flatten(),\n",
    "        rm.Dense(256),\n",
    "        rm.Relu(),\n",
    "        rm.Dropout(dropout_ratio=0.5),\n",
    "        rm.Dense(2),\n",
    "    ])"
   ]
  },
  {
   "cell_type": "code",
   "execution_count": 8,
   "metadata": {},
   "outputs": [],
   "source": [
    "# Choose neural network.\n",
    "network = sequential # 変数名を変更しただけ？\n",
    "# Choose optimizer\n",
    "optimizer = Adam()"
   ]
  },
  {
   "cell_type": "code",
   "execution_count": 9,
   "metadata": {},
   "outputs": [
    {
     "name": "stdout",
     "output_type": "stream",
     "text": [
      "epoch 000 train_loss:0.921121 test_loss:0.456057\n",
      "epoch 001 train_loss:0.336979 test_loss:0.234498\n",
      "epoch 002 train_loss:0.184586 test_loss:0.133480\n",
      "epoch 003 train_loss:0.104271 test_loss:0.075367\n",
      "epoch 004 train_loss:0.072464 test_loss:0.053675\n",
      "epoch 005 train_loss:0.052552 test_loss:0.034872\n",
      "epoch 006 train_loss:0.041063 test_loss:0.025577\n",
      "epoch 007 train_loss:0.031093 test_loss:0.018826\n",
      "epoch 008 train_loss:0.029481 test_loss:0.017746\n",
      "epoch 009 train_loss:0.023207 test_loss:0.013080\n"
     ]
    }
   ],
   "source": [
    "N = len(X_train)\n",
    "\n",
    "# Hyper parameters\n",
    "batch = 100\n",
    "epoch = 10\n",
    "\n",
    "learning_curve = []\n",
    "test_learning_curve = []\n",
    "\n",
    "for i in range(epoch):\n",
    "    perm = np.random.permutation(N)\n",
    "    loss = 0\n",
    "    for j in range(0, N // batch):\n",
    "        train_batch = X_train[perm[j * batch:(j + 1) * batch]]\n",
    "        responce_batch =labels_train[perm[j * batch:(j + 1) * batch]]\n",
    "\n",
    "        # Loss function\n",
    "        network.set_models(inference=False) # inference: 推論モード=OFF\n",
    "        with network.train():\n",
    "            l = rm.softmax_cross_entropy(network(train_batch), responce_batch)\n",
    "\n",
    "        # Back propagation\n",
    "        grad = l.grad()\n",
    "\n",
    "        # Update\n",
    "        grad.update(optimizer)\n",
    "        loss += l.as_ndarray()\n",
    "\n",
    "    train_loss = loss / (N // batch)\n",
    "\n",
    "    # Validation\n",
    "    test_loss = 0\n",
    "    M = len(X_test)\n",
    "    network.set_models(inference=True)\n",
    "    for j in range(M//batch):\n",
    "        test_batch = X_test[j * batch:(j + 1) * batch]\n",
    "        test_label_batch = labels_test[j * batch:(j + 1) * batch]\n",
    "        #print(test_label_batch)\n",
    "        prediction = network(test_batch)\n",
    "        test_loss += rm.softmax_cross_entropy(prediction, test_label_batch).as_ndarray()\n",
    "    test_loss /= (j+1)\n",
    "\n",
    "    test_learning_curve.append(test_loss)\n",
    "    learning_curve.append(train_loss)\n",
    "    print(\"epoch %03d train_loss:%f test_loss:%f\"%(i, train_loss, test_loss))"
   ]
  },
  {
   "cell_type": "code",
   "execution_count": 10,
   "metadata": {},
   "outputs": [
    {
     "name": "stdout",
     "output_type": "stream",
     "text": [
      "[[150   0]\n",
      " [  0 170]]\n",
      "             precision    recall  f1-score   support\n",
      "\n",
      "          0       1.00      1.00      1.00       150\n",
      "          1       1.00      1.00      1.00       170\n",
      "\n",
      "avg / total       1.00      1.00      1.00       320\n",
      "\n"
     ]
    },
    {
     "data": {
      "image/png": "[encoded data removed]",
      "text/plain": [
       "<Figure size 432x288 with 1 Axes>"
      ]
     },
     "metadata": {},
     "output_type": "display_data"
    }
   ],
   "source": [
    "network.set_models(inference=True)\n",
    "predictions = np.argmax(network(X_test).as_ndarray(), axis=1)\n",
    "\n",
    "# Confusion matrix and classification report.\n",
    "test_seikai_label = (np.argmax(y_test,axis = 1) ).reshape(-1,1)\n",
    "print(confusion_matrix(test_seikai_label, predictions))\n",
    "print(classification_report(test_seikai_label, predictions))\n",
    "\n",
    "# Learning curve.\n",
    "plt.plot(learning_curve, linewidth=3, label=\"train\")\n",
    "plt.plot(test_learning_curve, linewidth=3, label=\"test\")\n",
    "plt.title(\"Learning curve\")\n",
    "plt.ylabel(\"error\")\n",
    "plt.xlabel(\"epoch\")\n",
    "plt.legend()\n",
    "plt.grid()\n",
    "plt.show()"
   ]
  },
  {
   "cell_type": "code",
   "execution_count": 15,
   "metadata": {},
   "outputs": [
    {
     "name": "stdout",
     "output_type": "stream",
     "text": [
      "[0 0 0 0 0 0 0 0 0 0 0 0 0 0 0 0 0 0 0 0 0 0 0 0 0 0 0 0 0 0 0 0 0 0 0 0 0\n",
      " 0 0 0 0 0 0 0 0 0 0 0 0 0 0 0 0 0 0 0 0 0 0 0 0 0 0 0 0 0 0 0 0 0 0 0 0 0\n",
      " 0 0 0 0 0 0 0 0 0 0 0 0 0 0 0 0 0 0 0 0 0 0 0 0 0 0 0 0 0 0 0 0 0 0 0 0 0\n",
      " 0 0 0 0 0 0 0 0 0 0 0 0 0 0 0 0 0 0 0 0 0 0 0 0 0 0 0 0 0 0 0 0 0 0 0 0 0\n",
      " 0 0 0 0 0 0 0 0 0 0 0 0 0 0 0 0 0 0 0 0 0 0 0 0 0 0 0 0 0 0 0 0 0 0 0 0 0\n",
      " 0 0 0 0 0 0 0 0 0 0 0 0 0 0 0 0 0 0 0 0 0 0 0 0 0 0 0 0 0 0 0 0 0 0 0 0 0\n",
      " 0 0 0 0 0 0 0 0 0 0 0 0 0 0 0 0 0 0 0 0 0 0 0 0 0 0 0 0 0 0 0 0 0 0 0 0 0\n",
      " 0 0 0 0 0 0 0 0 0 0 0 0 0 0 0 0 0 0 0 0 0 0 0 0 0 0 0 0 0 0 0 0 0 0 0 0 0\n",
      " 0 0 0 0 0 0 0 0 0 0 0 0 0 0 0 0 0 0 0 0 0 0 0 0]\n"
     ]
    }
   ],
   "source": [
    "diff = test_seikai_label.reshape(-1,) - predictions\n",
    "print (diff)\n",
    "diff_num = np.count_nonzero(diff)\n",
    "diff_list = np.where(diff != 0)\n",
    "\n",
    "for i in range(diff_num):\n",
    "    print (diff_num)\n",
    "    plt.imshow(X_test[diff_list][i][0], 'gray')\n",
    "    plt.show()"
   ]
  },
  {
   "cell_type": "code",
   "execution_count": null,
   "metadata": {},
   "outputs": [],
   "source": []
  }
 ],
 "metadata": {
  "kernelspec": {
   "display_name": "Python 3",
   "language": "python",
   "name": "python3"
  },
  "language_info": {
   "codemirror_mode": {
    "name": "ipython",
    "version": 3
   },
   "file_extension": ".py",
   "mimetype": "text/x-python",
   "name": "python",
   "nbconvert_exporter": "python",
   "pygments_lexer": "ipython3",
   "version": "3.6.5"
  }
 },
 "nbformat": 4,
 "nbformat_minor": 2
}
