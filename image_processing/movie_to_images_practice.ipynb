{
 "cells": [
  {
   "cell_type": "code",
   "execution_count": 3,
   "metadata": {},
   "outputs": [],
   "source": [
    "import cv2\n",
    "import os"
   ]
  },
  {
   "cell_type": "code",
   "execution_count": 4,
   "metadata": {},
   "outputs": [],
   "source": [
    "filename = \"Michael_Day2_019.avi\""
   ]
  },
  {
   "cell_type": "code",
   "execution_count": 5,
   "metadata": {},
   "outputs": [
    {
     "name": "stdout",
     "output_type": "stream",
     "text": [
      "frame_count:35391\n"
     ]
    }
   ],
   "source": [
    "video = cv2.VideoCapture(filename)\n",
    "save_dir = \"save_dir\"\n",
    "if not os.path.exists(save_dir):\n",
    "    os.mkdir(save_dir)\n",
    "frame_count = int(video.get(7)) # 7 = CV_CAP_PROP_FRAME_COUNT (Number of frames in the video file.)\n",
    "print(\"frame_count:{}\".format(frame_count))\n",
    "for i in range(frame_count):\n",
    "    # _ は画像取得成功フラグ\n",
    "    _, frame = video.read()\n",
    "    cv2.imwrite(save_dir+\"/\"+str(i)+\".png\", frame)"
   ]
  },
  {
   "cell_type": "code",
   "execution_count": null,
   "metadata": {},
   "outputs": [],
   "source": []
  }
 ],
 "metadata": {
  "kernelspec": {
   "display_name": "Python 3",
   "language": "python",
   "name": "python3"
  },
  "language_info": {
   "codemirror_mode": {
    "name": "ipython",
    "version": 3
   },
   "file_extension": ".py",
   "mimetype": "text/x-python",
   "name": "python",
   "nbconvert_exporter": "python",
   "pygments_lexer": "ipython3",
   "version": "3.6.5"
  }
 },
 "nbformat": 4,
 "nbformat_minor": 2
}
